{
 "cells": [
  {
   "cell_type": "markdown",
   "metadata": {
    "extensions": {
     "jupyter_dashboards": {
      "version": 1,
      "views": {
       "grid_default": {
        "col": 0,
        "height": 4,
        "hidden": false,
        "row": 0,
        "width": 4
       },
       "report_default": {}
      }
     }
    }
   },
   "source": [
    "# EDA"
   ]
  },
  {
   "cell_type": "code",
   "execution_count": 1,
   "metadata": {
    "extensions": {
     "jupyter_dashboards": {
      "version": 1,
      "views": {
       "grid_default": {
        "hidden": true
       },
       "report_default": {}
      }
     }
    }
   },
   "outputs": [],
   "source": [
    "# import all the necessary libraries/packages\n",
    "from statsmodels.tsa.seasonal import seasonal_decompose\n",
    "import pandas as pd\n",
    "import numpy as np\n",
    "import ast\n",
    "import matplotlib.pyplot as plt\n",
    "import geopandas as gpd\n",
    "import os\n",
    "from geopandas.tools import overlay\n",
    "import shapely\n",
    "from shapely.geometry import Point, Polygon,MultiPoint, MultiPolygon\n",
    "import fiona\n",
    "import warnings\n",
    "from pyproj import Proj, transform\n",
    "import fiona\n",
    "from fiona.crs import from_epsg\n",
    "from bokeh.models import HoverTool\n",
    "from bokeh.plotting import figure, show, output_file, ColumnDataSource\n",
    "import mplcursors\n",
    "from sklearn.preprocessing import normalize\n",
    "from statsmodels.tsa.stattools import adfuller\n",
    "from bokeh.layouts import column, row, widgetbox\n",
    "from bokeh.models import CustomJS, Slider, Toggle\n",
    "from bokeh.models import ColumnDataSource, HoverTool, LogColorMapper, LogTicker, ColorBar\n",
    "from bokeh.io import push_notebook, output_notebook\n",
    "from ipywidgets import interact\n",
    "import ipywidgets as widgets\n",
    "warnings.filterwarnings(\"ignore\")\n",
    "%matplotlib inline"
   ]
  },
  {
   "cell_type": "code",
   "execution_count": 3,
   "metadata": {
    "extensions": {
     "jupyter_dashboards": {
      "version": 1,
      "views": {
       "grid_default": {
        "hidden": true
       },
       "report_default": {}
      }
     }
    }
   },
   "outputs": [],
   "source": [
    "# import csv(restaurants that are currently open in Williamsburg, Bushwick, East Harlem, and Chelsea/Clinton area)\n",
    "yelp_williamsburg = pd.read_csv('csv/yelp_williamsburg_w_review_date.csv', index_col = 0)\n",
    "yelp_bushwick = pd.read_csv('csv/yelp_bushwick_w_review_date.csv', index_col = 0)\n",
    "yelp_east_harlem = pd.read_csv('csv/yelp_east_harlem_w_review_date.csv', index_col = 0)\n",
    "yelp_chelsea_clinton = pd.read_csv('csv/yelp_chelsea_clinton_w_review_date.csv', index_col = 0)"
   ]
  },
  {
   "cell_type": "code",
   "execution_count": 45,
   "metadata": {
    "extensions": {
     "jupyter_dashboards": {
      "version": 1,
      "views": {
       "grid_default": {
        "hidden": true
       },
       "report_default": {}
      }
     }
    }
   },
   "outputs": [],
   "source": [
    "# yelp_bushwick_categ = pd.read_csv('../yelp_bushwick.csv', index_col = 0)\n",
    "# yelp_bushwick = yelp_bushwick.drop([266])\n",
    "# yelp_bushwick = yelp_bushwick.reset_index(drop = True)"
   ]
  },
  {
   "cell_type": "code",
   "execution_count": 5,
   "metadata": {
    "extensions": {
     "jupyter_dashboards": {
      "version": 1,
      "views": {
       "grid_default": {
        "hidden": true
       },
       "report_default": {}
      }
     }
    }
   },
   "outputs": [],
   "source": [
    "williamsburg_id = list(set(yelp_williamsburg.id))"
   ]
  },
  {
   "cell_type": "code",
   "execution_count": 46,
   "metadata": {
    "extensions": {
     "jupyter_dashboards": {
      "version": 1,
      "views": {
       "grid_default": {
        "hidden": true
       },
       "report_default": {}
      }
     }
    }
   },
   "outputs": [],
   "source": [
    "# yelp_bushwick_categ = yelp_bushwick_categ[~yelp_bushwick_categ['id'].isin(williamsburg_id)]\n",
    "# yelp_bushwick_categ = yelp_bushwick_categ.reset_index(drop = True)\n",
    "# yelp_bushwick_categ = yelp_bushwick_categ['categories']"
   ]
  },
  {
   "cell_type": "code",
   "execution_count": 7,
   "metadata": {
    "extensions": {
     "jupyter_dashboards": {
      "version": 1,
      "views": {
       "grid_default": {
        "hidden": true
       },
       "report_default": {}
      }
     }
    }
   },
   "outputs": [],
   "source": [
    "length_williamsburg = len(yelp_williamsburg)\n",
    "length_bushwick = len(yelp_bushwick)\n",
    "length_east_harlem = len(yelp_east_harlem)"
   ]
  },
  {
   "cell_type": "code",
   "execution_count": 8,
   "metadata": {
    "extensions": {
     "jupyter_dashboards": {
      "version": 1,
      "views": {
       "grid_default": {
        "hidden": true
       },
       "report_default": {}
      }
     }
    }
   },
   "outputs": [],
   "source": [
    "length_chelsea_clinton = len(yelp_chelsea_clinton)"
   ]
  },
  {
   "cell_type": "markdown",
   "metadata": {
    "extensions": {
     "jupyter_dashboards": {
      "version": 1,
      "views": {
       "grid_default": {
        "col": 4,
        "height": 4,
        "hidden": false,
        "row": 0,
        "width": 4
       },
       "report_default": {}
      }
     }
    }
   },
   "source": [
    "### Data Visualization"
   ]
  },
  {
   "cell_type": "markdown",
   "metadata": {
    "extensions": {
     "jupyter_dashboards": {
      "version": 1,
      "views": {
       "grid_default": {
        "col": 0,
        "height": 4,
        "hidden": false,
        "row": 4,
        "width": 12
       },
       "report_default": {}
      }
     }
    }
   },
   "source": [
    "- Use shapefile to plot polygons by zipcode, and use restaurant data to plot restaurant locations\n",
    "- show the change (both in rent and businesses) over time\n",
    "- understand percent increase in business for each area"
   ]
  },
  {
   "cell_type": "code",
   "execution_count": 9,
   "metadata": {
    "extensions": {
     "jupyter_dashboards": {
      "version": 1,
      "views": {
       "grid_default": {
        "hidden": true
       },
       "report_default": {}
      }
     }
    }
   },
   "outputs": [],
   "source": [
    "# set the dataframe to a different name\n",
    "yelp_williamsburg_plotly = yelp_williamsburg\n",
    "yelp_bushwick_plotly = yelp_bushwick\n",
    "yelp_east_harlem_plotly = yelp_east_harlem \n",
    "yelp_chelsea_clinton_plotly = yelp_chelsea_clinton"
   ]
  },
  {
   "cell_type": "code",
   "execution_count": 10,
   "metadata": {
    "extensions": {
     "jupyter_dashboards": {
      "version": 1,
      "views": {
       "grid_default": {
        "hidden": true
       },
       "report_default": {}
      }
     }
    }
   },
   "outputs": [],
   "source": [
    "yelp_chelsea_clinton_plotly = yelp_chelsea_clinton"
   ]
  },
  {
   "cell_type": "code",
   "execution_count": 11,
   "metadata": {
    "extensions": {
     "jupyter_dashboards": {
      "version": 1,
      "views": {
       "grid_default": {
        "hidden": true
       },
       "report_default": {}
      }
     }
    }
   },
   "outputs": [],
   "source": [
    "def df_for_visualization(df):\n",
    "    df['Coordinates'] = list(zip(df['longitude'], df['latitude'])) # create a new column coordinates (latitude, longitude pair)\n",
    "    df['Coordinates'] = df['Coordinates'].apply(Point) # change coordinates type to geoppanda's Point\n",
    "    gdf = gpd.GeoDataFrame(df, geometry='Coordinates') \n",
    "    return df, gdf"
   ]
  },
  {
   "cell_type": "code",
   "execution_count": 17,
   "metadata": {
    "extensions": {
     "jupyter_dashboards": {
      "version": 1,
      "views": {
       "grid_default": {
        "hidden": true
       },
       "report_default": {}
      }
     }
    }
   },
   "outputs": [],
   "source": [
    "# # create a new column coordinates (latitude, longitude pair)\n",
    "# yelp_williamsburg_plotly['Coordinates'] = list(zip(yelp_williamsburg_plotly['longitude'], yelp_williamsburg_plotly['latitude']))"
   ]
  },
  {
   "cell_type": "code",
   "execution_count": 13,
   "metadata": {
    "extensions": {
     "jupyter_dashboards": {
      "version": 1,
      "views": {
       "grid_default": {
        "hidden": true
       },
       "report_default": {}
      }
     }
    }
   },
   "outputs": [],
   "source": [
    "bushwick_plotly_df, gdf_bushwick = df_for_visualization(yelp_bushwick_plotly)\n",
    "east_harlem_plotly_df, gdf_east_harlem = df_for_visualization(yelp_east_harlem_plotly)"
   ]
  },
  {
   "cell_type": "code",
   "execution_count": 14,
   "metadata": {
    "extensions": {
     "jupyter_dashboards": {
      "version": 1,
      "views": {
       "grid_default": {
        "hidden": true
       },
       "report_default": {}
      }
     }
    }
   },
   "outputs": [],
   "source": [
    "east_chelsea_clinton_df, gdf_chelsea_clinton = df_for_visualization(yelp_chelsea_clinton_plotly)"
   ]
  },
  {
   "cell_type": "code",
   "execution_count": 18,
   "metadata": {
    "extensions": {
     "jupyter_dashboards": {
      "version": 1,
      "views": {
       "grid_default": {
        "hidden": true
       },
       "report_default": {}
      }
     }
    }
   },
   "outputs": [],
   "source": [
    "# # change coordinates type to geoppanda's Point\n",
    "# yelp_williamsburg_plotly['Coordinates'] = yelp_williamsburg_plotly['Coordinates'].apply(Point)"
   ]
  },
  {
   "cell_type": "code",
   "execution_count": 19,
   "metadata": {
    "extensions": {
     "jupyter_dashboards": {
      "version": 1,
      "views": {
       "grid_default": {
        "hidden": true
       },
       "report_default": {}
      }
     }
    }
   },
   "outputs": [],
   "source": [
    "gdf = gpd.GeoDataFrame(yelp_williamsburg_plotly, geometry='Coordinates')\n",
    "# gdf = gdf.drop(['Coordinates'], axis = 1)"
   ]
  },
  {
   "cell_type": "code",
   "execution_count": 21,
   "metadata": {
    "extensions": {
     "jupyter_dashboards": {
      "version": 1,
      "views": {
       "grid_default": {
        "col": 0,
        "height": 7,
        "hidden": false,
        "row": 8,
        "width": 4
       },
       "report_default": {}
      }
     }
    }
   },
   "outputs": [
    {
     "data": {
      "text/plain": [
       "{'proj': 'lcc',\n",
       " 'lat_1': 40.66666666666666,\n",
       " 'lat_2': 41.03333333333333,\n",
       " 'lat_0': 40.16666666666666,\n",
       " 'lon_0': -74,\n",
       " 'x_0': 300000,\n",
       " 'y_0': 0,\n",
       " 'datum': 'NAD83',\n",
       " 'units': 'us-ft',\n",
       " 'no_defs': True}"
      ]
     },
     "execution_count": 21,
     "metadata": {},
     "output_type": "execute_result"
    }
   ],
   "source": [
    "# shape_file_zip = gpd.read_file('ZIP_CODE_040114/ZIP_CODE_040114.shp') # geopanda\n",
    "shape = fiona.open('ZIP_CODE_040114/ZIP_CODE_040114.shp') # open shape file with fiona\n",
    "shape.crs"
   ]
  },
  {
   "cell_type": "code",
   "execution_count": 22,
   "metadata": {
    "extensions": {
     "jupyter_dashboards": {
      "version": 1,
      "views": {
       "grid_default": {
        "hidden": true
       },
       "report_default": {}
      }
     }
    }
   },
   "outputs": [],
   "source": [
    "# create projection object (use this to transform Polygons from lcc to lat/long)\n",
    "nc = Proj(\"+proj=lcc +lat_1=40.66666666666666 +lat_2=41.03333333333333 +lat_0=40.16666666666666 +lon_0=-74 +x_0=300000 +y_0=0 +datum=NAD83 +to_meter=0.3048006096012192 +no_defs \", preserve_units=True)\n",
    "# convert Polygon from lcc to lat/long and save the updated version as new.shp\n",
    "with fiona.open('new.shp', 'w', 'ESRI Shapefile', shape.schema.copy(), crs=from_epsg(4326)) as output:\n",
    "    for feat in shape: # feat = one polygon of the shapefile\n",
    "        out_linearRing = [] # empty list for the LinearRing of transformed coordinates\n",
    "        for point in feat['geometry']['coordinates'][0]: # LinearRing of the Polygon\n",
    "            long,lat =  point  # one point of the LinearRing\n",
    "            x,y = nc(long,lat, inverse=True)\n",
    "            out_linearRing.append((x,y)) # add all the points to the new LinearRing\n",
    "        # transform the resulting LinearRing to a Polygon and write it\n",
    "        feat['geometry']['coordinates'] = [out_linearRing]\n",
    "        output.write(feat)"
   ]
  },
  {
   "cell_type": "code",
   "execution_count": 23,
   "metadata": {
    "extensions": {
     "jupyter_dashboards": {
      "version": 1,
      "views": {
       "grid_default": {
        "hidden": true
       },
       "report_default": {}
      }
     }
    }
   },
   "outputs": [],
   "source": [
    "shape_fiona = gpd.read_file('new.shp') "
   ]
  },
  {
   "cell_type": "code",
   "execution_count": 24,
   "metadata": {
    "extensions": {
     "jupyter_dashboards": {
      "version": 1,
      "views": {
       "grid_default": {
        "hidden": true
       },
       "report_default": {}
      }
     }
    }
   },
   "outputs": [],
   "source": [
    "# choose polygons to plot area map\n",
    "ny_bk_qn = shape_fiona[(shape_fiona['COUNTY'] == 'New York') | (shape_fiona['COUNTY'] == 'Kings') | (shape_fiona['COUNTY'] == 'Queens')]\n",
    "bk = shape_fiona[shape_fiona['COUNTY'] == 'Kings']"
   ]
  },
  {
   "cell_type": "code",
   "execution_count": 25,
   "metadata": {
    "extensions": {
     "jupyter_dashboards": {
      "version": 1,
      "views": {
       "grid_default": {
        "hidden": true
       },
       "report_default": {}
      }
     }
    }
   },
   "outputs": [],
   "source": [
    "# Perform the spatial join - Williamsburg\n",
    "ny_bk_qn = ny_bk_qn[[\"ZIPCODE\", \"geometry\"]]\n",
    "result = gpd.tools.sjoin(gdf, ny_bk_qn, how=\"left\",op=\"within\")"
   ]
  },
  {
   "cell_type": "code",
   "execution_count": 26,
   "metadata": {
    "extensions": {
     "jupyter_dashboards": {
      "version": 1,
      "views": {
       "grid_default": {
        "hidden": true
       },
       "report_default": {}
      }
     }
    }
   },
   "outputs": [],
   "source": [
    "# Perform the spatial join - Williamsburg\n",
    "result_bushwick = gpd.tools.sjoin(gdf_bushwick, ny_bk_qn, how=\"left\",op=\"within\")\n",
    "result_east_harlem = gpd.tools.sjoin(gdf_east_harlem, ny_bk_qn, how=\"left\",op=\"within\")"
   ]
  },
  {
   "cell_type": "code",
   "execution_count": 27,
   "metadata": {
    "extensions": {
     "jupyter_dashboards": {
      "version": 1,
      "views": {
       "grid_default": {
        "hidden": true
       },
       "report_default": {}
      }
     }
    }
   },
   "outputs": [],
   "source": [
    "result_chelsea_clinton = gpd.tools.sjoin(gdf_chelsea_clinton, ny_bk_qn, how=\"left\",op=\"within\")"
   ]
  },
  {
   "cell_type": "markdown",
   "metadata": {
    "extensions": {
     "jupyter_dashboards": {
      "version": 1,
      "views": {
       "grid_default": {
        "col": 8,
        "height": 4,
        "hidden": false,
        "row": 0,
        "width": 4
       },
       "report_default": {}
      }
     }
    }
   },
   "source": [
    "#### Street Score - visualization"
   ]
  },
  {
   "cell_type": "code",
   "execution_count": 30,
   "metadata": {
    "extensions": {
     "jupyter_dashboards": {
      "version": 1,
      "views": {
       "grid_default": {
        "hidden": true
       },
       "report_default": {}
      }
     }
    }
   },
   "outputs": [],
   "source": [
    "# street_score = pd.read_csv('../streetscore_newyorkcity.csv')"
   ]
  },
  {
   "cell_type": "code",
   "execution_count": 31,
   "metadata": {
    "extensions": {
     "jupyter_dashboards": {
      "version": 1,
      "views": {
       "grid_default": {
        "hidden": true
       },
       "report_default": {}
      }
     }
    }
   },
   "outputs": [],
   "source": [
    "# street_score_df, street_score_gdf = df_for_visualization(street_score)"
   ]
  },
  {
   "cell_type": "code",
   "execution_count": 32,
   "metadata": {
    "extensions": {
     "jupyter_dashboards": {
      "version": 1,
      "views": {
       "grid_default": {
        "hidden": true
       },
       "report_default": {}
      }
     }
    }
   },
   "outputs": [],
   "source": [
    "# street_score_gdf.head()"
   ]
  },
  {
   "cell_type": "code",
   "execution_count": null,
   "metadata": {
    "extensions": {
     "jupyter_dashboards": {
      "version": 1,
      "views": {
       "grid_default": {
        "hidden": true
       },
       "report_default": {}
      }
     }
    }
   },
   "outputs": [],
   "source": [
    "print(street_score_gdf['q-score'].max())\n",
    "street_score_gdf['q-score'].min()"
   ]
  },
  {
   "cell_type": "code",
   "execution_count": null,
   "metadata": {
    "extensions": {
     "jupyter_dashboards": {
      "version": 1,
      "views": {
       "grid_default": {
        "hidden": true
       },
       "report_default": {}
      }
     }
    }
   },
   "outputs": [],
   "source": [
    "def color_map():\n",
    "    cmap = plt.cm.viridis\n",
    "    cmaplist = [cmap(i) for i in range(cmap.N)]\n",
    "    jump = 256//5\n",
    "    cmaplist_ = []\n",
    "    for item in street_score_gdf['q-score']:\n",
    "        if -5<=item<5:\n",
    "            cmaplist_.append(cmaplist[jump*0])\n",
    "        if 5<= item <15:\n",
    "            cmaplist_.append(cmaplist[jump*1])\n",
    "        if 15<= item < 25:\n",
    "            cmaplist_.append(cmaplist[jump*2])\n",
    "        if 25<= item < 35:\n",
    "            cmaplist_.append(cmaplist[jump*3])\n",
    "        if 35<= item < 45:\n",
    "            cmaplist_.append(cmaplist[jump*4])\n",
    "    return cmaplist_"
   ]
  },
  {
   "cell_type": "code",
   "execution_count": null,
   "metadata": {
    "extensions": {
     "jupyter_dashboards": {
      "version": 1,
      "views": {
       "grid_default": {
        "hidden": true
       },
       "report_default": {}
      }
     }
    }
   },
   "outputs": [],
   "source": [
    "colors = color_map()"
   ]
  },
  {
   "cell_type": "code",
   "execution_count": null,
   "metadata": {
    "extensions": {
     "jupyter_dashboards": {
      "version": 1,
      "views": {
       "grid_default": {
        "hidden": true
       },
       "report_default": {}
      }
     }
    }
   },
   "outputs": [],
   "source": [
    "fig, ax = plt.subplots(1, figsize=(20, 10))\n",
    "ny_bk_qn.plot(ax=ax, color=\"blue\")\n",
    "street_score_gdf.plot(ax=ax,markersize=1, color = colors)\n",
    "plt.show()"
   ]
  },
  {
   "cell_type": "code",
   "execution_count": null,
   "metadata": {
    "extensions": {
     "jupyter_dashboards": {
      "version": 1,
      "views": {
       "grid_default": {
        "hidden": true
       },
       "report_default": {}
      }
     }
    }
   },
   "outputs": [],
   "source": [
    "result_chelsea_clinton = result_chelsea_clinton[result_chelsea_clinton['latitude']<=41]\n",
    "result_chelsea_clinton = result_chelsea_clinton[(result_chelsea_clinton['longitude']>=-74.1)&(result_chelsea_clinton['longitude']<=-73.8)]"
   ]
  },
  {
   "cell_type": "markdown",
   "metadata": {
    "extensions": {
     "jupyter_dashboards": {
      "version": 1,
      "views": {
       "grid_default": {
        "col": 4,
        "height": 4,
        "hidden": false,
        "row": 8,
        "width": 4
       },
       "report_default": {}
      }
     }
    }
   },
   "source": [
    "### Visualization - Williamsburg, Bushwick and East Harlem"
   ]
  },
  {
   "cell_type": "code",
   "execution_count": 33,
   "metadata": {
    "extensions": {
     "jupyter_dashboards": {
      "version": 1,
      "views": {
       "grid_default": {
        "hidden": true
       },
       "report_default": {}
      }
     }
    }
   },
   "outputs": [],
   "source": [
    "custom_colors = ['#f2f2f2', '#fee5d9', '#fcbba1', '#fc9272', '#fb6a4a', '#de2d26']"
   ]
  },
  {
   "cell_type": "code",
   "execution_count": 34,
   "metadata": {
    "extensions": {
     "jupyter_dashboards": {
      "version": 1,
      "views": {
       "grid_default": {
        "hidden": true
       },
       "report_default": {}
      }
     }
    }
   },
   "outputs": [],
   "source": [
    "result_bushwick = result_bushwick[result_bushwick['longitude']>90]"
   ]
  },
  {
   "cell_type": "code",
   "execution_count": null,
   "metadata": {
    "extensions": {
     "jupyter_dashboards": {
      "version": 1,
      "views": {
       "grid_default": {
        "hidden": true
       },
       "report_default": {}
      }
     }
    }
   },
   "outputs": [],
   "source": [
    "# fig, ax = plt.subplots(1, figsize=(20, 10))\n",
    "# ny_bk_qn.plot(ax=ax, color= custom_colors[0])\n",
    "# result_bushwick.plot(ax=ax, markersize=2, color=\"black\")\n",
    "# result_east_harlem.plot(ax=ax, markersize=2, color=\"green\")\n",
    "# result_chelsea_clinton.plot(ax=ax, markersize=2, color=\"blue\")\n",
    "# result.plot(ax=ax, markersize=2, color=\"red\")\n",
    "# plt.show()"
   ]
  },
  {
   "cell_type": "code",
   "execution_count": 35,
   "metadata": {
    "extensions": {
     "jupyter_dashboards": {
      "version": 1,
      "views": {
       "grid_default": {
        "hidden": true
       },
       "report_default": {}
      }
     }
    }
   },
   "outputs": [],
   "source": [
    "williamsburg_geo = ny_bk_qn[(ny_bk_qn['ZIPCODE'] == '11211')|(ny_bk_qn['ZIPCODE'] =='11206')|(ny_bk_qn['ZIPCODE'] =='11237')]\n",
    "bushwick_geo = ny_bk_qn[(ny_bk_qn['ZIPCODE'] == '11221')]\n",
    "chelsea_clinton_geo = ny_bk_qn[(ny_bk_qn['ZIPCODE'] == '10001')|(ny_bk_qn['ZIPCODE'] == '10011')|(ny_bk_qn['ZIPCODE'] == '10018')|(ny_bk_qn['ZIPCODE'] == '10019')|(ny_bk_qn['ZIPCODE'] == '10020')|(ny_bk_qn['ZIPCODE'] == '10036')]\n",
    "east_harlem_geo = ny_bk_qn[(ny_bk_qn['ZIPCODE'] =='10029')|(ny_bk_qn['ZIPCODE'] =='10035')]\n",
    "bk_wo_williamsburg_bushwick = ny_bk_qn[(ny_bk_qn['ZIPCODE'] != '11211')&(ny_bk_qn['ZIPCODE'] !='11206')&(ny_bk_qn['ZIPCODE'] !='11237')&(ny_bk_qn['ZIPCODE'] != '11221')&(ny_bk_qn['ZIPCODE'] !='10029')&(ny_bk_qn['ZIPCODE'] !='10035')&(ny_bk_qn['ZIPCODE'] != '10001')&(ny_bk_qn['ZIPCODE'] != '10011')&(ny_bk_qn['ZIPCODE'] != '10018')&(ny_bk_qn['ZIPCODE'] != '10019')&(ny_bk_qn['ZIPCODE'] != '10020')&(ny_bk_qn['ZIPCODE'] != '10036')]"
   ]
  },
  {
   "cell_type": "code",
   "execution_count": null,
   "metadata": {
    "extensions": {
     "jupyter_dashboards": {
      "version": 1,
      "views": {
       "grid_default": {
        "hidden": true
       },
       "report_default": {}
      }
     }
    }
   },
   "outputs": [],
   "source": [
    "# fig, ax = plt.subplots(1, figsize=(25, 15))\n",
    "# williamsburg_geo.plot(ax=ax, color = custom_colors[3])\n",
    "# bushwick_geo.plot(ax=ax, color = custom_colors[1])\n",
    "# east_harlem_geo.plot(ax=ax, color = custom_colors[2])\n",
    "# chelsea_clinton_geo.plot(ax=ax, color = custom_colors[4])\n",
    "# bk_wo_williamsburg_bushwick.plot(ax=ax, color=custom_colors[0])\n",
    "# result.plot(ax=ax, markersize=1, color=\"red\")\n",
    "# result_bushwick.plot(ax=ax, markersize=1, color=\"black\")\n",
    "# result_east_harlem.plot(ax=ax, markersize=1, color=\"green\")\n",
    "# result_chelsea_clinton.plot(ax=ax, markersize=2, color=\"blue\")\n",
    "# plt.show()"
   ]
  },
  {
   "cell_type": "code",
   "execution_count": null,
   "metadata": {
    "extensions": {
     "jupyter_dashboards": {
      "version": 1,
      "views": {
       "grid_default": {
        "hidden": true
       },
       "report_default": {}
      }
     }
    }
   },
   "outputs": [],
   "source": [
    "# from bokeh.layouts import column, row, widgetbox\n",
    "# from bokeh.models import CustomJS, Slider, Toggle\n",
    "\n",
    "# output_file(\"rent_dynamic_interactive_test.html\")\n",
    "\n",
    "# # add slider with callback to update data source\n",
    "# slider = Slider(start=, end=23, value=0, step=1, title=\"Hour of day\")\n",
    "\n",
    "# def update(source=source, slider=slider, window=None):\n",
    "#     \"\"\" Update the map: change the bike density measure according to slider\n",
    "#         will be translated to JavaScript and Called in Browser \"\"\"\n",
    "#     data = source.data\n",
    "#     v = cb_obj.get('value')\n",
    "#     data['rate'] = [x for x in data[v]]\n",
    "#     source.trigger('change')\n",
    "\n",
    "# slider.js_on_change('value', CustomJS.from_py_func(update))\n",
    "# show(column(p,widgetbox(slider),))"
   ]
  },
  {
   "cell_type": "markdown",
   "metadata": {
    "extensions": {
     "jupyter_dashboards": {
      "version": 1,
      "views": {
       "grid_default": {
        "col": 8,
        "height": 4,
        "hidden": false,
        "row": 8,
        "width": 4
       },
       "report_default": {}
      }
     }
    }
   },
   "source": [
    "### Data Manipulation and EDA"
   ]
  },
  {
   "cell_type": "code",
   "execution_count": 48,
   "metadata": {
    "extensions": {
     "jupyter_dashboards": {
      "version": 1,
      "views": {
       "grid_default": {
        "hidden": true
       },
       "report_default": {}
      }
     }
    }
   },
   "outputs": [],
   "source": [
    "def data_manipulation(df, length):\n",
    "    #change price to int. (count of dollar signs) from $$ \n",
    "    df['price'] = [len(df['price'][i]) if ~df['price'].isnull()[i] else np.nan for i in range(0, length)]\n",
    "    #remove empty list and change the data type to datetime\n",
    "    df['oldest_review'] = df['oldest_review'].apply(lambda y: np.nan if len(y)==2 else y)\n",
    "    df['oldest_review'] = pd.to_datetime(df['oldest_review'])\n",
    "    # get count of reviews per month\n",
    "    group_by = df.groupby(df['oldest_review'].dt.to_period(\"M\")).agg('count')\n",
    "    return df, group_by"
   ]
  },
  {
   "cell_type": "code",
   "execution_count": 49,
   "metadata": {
    "extensions": {
     "jupyter_dashboards": {
      "version": 1,
      "views": {
       "grid_default": {
        "hidden": true
       },
       "report_default": {}
      }
     }
    }
   },
   "outputs": [],
   "source": [
    "yelp_bushwick_cleaned, group_by_bushwick = data_manipulation(yelp_bushwick, length_bushwick)\n",
    "yelp_east_harlem_cleaned, group_by_east_harlem = data_manipulation(yelp_east_harlem, length_east_harlem)"
   ]
  },
  {
   "cell_type": "code",
   "execution_count": 50,
   "metadata": {
    "extensions": {
     "jupyter_dashboards": {
      "version": 1,
      "views": {
       "grid_default": {
        "hidden": true
       },
       "report_default": {}
      }
     }
    }
   },
   "outputs": [],
   "source": [
    "yelp_williamsburg_cleaned, group_by_williamsburg = data_manipulation(yelp_williamsburg, length_williamsburg)"
   ]
  },
  {
   "cell_type": "code",
   "execution_count": 51,
   "metadata": {
    "extensions": {
     "jupyter_dashboards": {
      "version": 1,
      "views": {
       "grid_default": {
        "hidden": true
       },
       "report_default": {}
      }
     }
    }
   },
   "outputs": [],
   "source": [
    "yelp_chelsea_clinton_cleaned, group_by_chelsea_clinton = data_manipulation(yelp_chelsea_clinton, length_chelsea_clinton)"
   ]
  },
  {
   "cell_type": "code",
   "execution_count": null,
   "metadata": {
    "extensions": {
     "jupyter_dashboards": {
      "version": 1,
      "views": {
       "grid_default": {
        "hidden": true
       },
       "report_default": {}
      }
     }
    }
   },
   "outputs": [],
   "source": [
    "# # THIS IS PUT TOGETHER IN THE FUNCTION ABOVE\n",
    "# # change price to int. (count of dollar signs) from $$ \n",
    "# # yelp_williamsburg['price'] = [len(yelp_williamsburg['price'][i]) if ~yelp_williamsburg['price'].isnull()[i] else np.nan for i in range(0, length_williamsburg)]\n",
    "# # remove empty list and change the data type to datetime\n",
    "# yelp_williamsburg['oldest_review'] = yelp_williamsburg['oldest_review'].apply(lambda y: np.nan if len(y)==2 else y)\n",
    "# yelp_williamsburg['oldest_review'] = pd.to_datetime(yelp_williamsburg['oldest_review'])\n",
    "# # get count of reviews per month\n",
    "# group_by = yelp_williamsburg.groupby(yelp_williamsburg['oldest_review'].dt.to_period(\"M\")).agg('count')"
   ]
  },
  {
   "cell_type": "code",
   "execution_count": 65,
   "metadata": {
    "extensions": {
     "jupyter_dashboards": {
      "version": 1,
      "views": {
       "grid_default": {
        "hidden": true
       },
       "report_default": {}
      }
     }
    }
   },
   "outputs": [],
   "source": [
    "# williamsburg_category_count = yelp_williamsburg.groupby('category').count()\n",
    "# williamsburg_category_count = williamsburg_category_count.sort_values(by = ['alias'], ascending = False)\n",
    "# williamsburg_category_count = williamsburg_category_count['alias']\n",
    "# # williamsburg_category_count"
   ]
  },
  {
   "cell_type": "code",
   "execution_count": 74,
   "metadata": {
    "extensions": {
     "jupyter_dashboards": {
      "version": 1,
      "views": {
       "grid_default": {
        "hidden": true
       },
       "report_default": {}
      }
     }
    }
   },
   "outputs": [],
   "source": [
    "# yelp_bushwick_cleaned = yelp_bushwick_cleaned.drop(['categories'], axis = 1)"
   ]
  },
  {
   "cell_type": "code",
   "execution_count": 76,
   "metadata": {
    "extensions": {
     "jupyter_dashboards": {
      "version": 1,
      "views": {
       "grid_default": {
        "hidden": true
       },
       "report_default": {}
      }
     }
    }
   },
   "outputs": [],
   "source": [
    "# yelp_bushwick = yelp_bushwick.drop(['avg_rating', \"avg_price\"], axis = 1)\n",
    "yelp_bushwick_cleaned = pd.concat([yelp_bushwick_cleaned,yelp_bushwick_categ[:405]], axis = 1)\n",
    "# yelp_bushwick_cleaned = yelp_bushwick_cleaned[:405]\n",
    "# yelp_bushwick_cleaned['categories'] = yelp_bushwick_cleaned['categories'].apply(lambda x: ast.literal_eval(x)) \n",
    "cat = [yelp_bushwick_cleaned['categories'][i][0]['alias'] if yelp_bushwick_cleaned['categories'][i] != [] else None for i in range(0, length_bushwick-1)]\n",
    "yelp_bushwick_cleaned['category'] = pd.Series(cat)"
   ]
  },
  {
   "cell_type": "code",
   "execution_count": 77,
   "metadata": {
    "extensions": {
     "jupyter_dashboards": {
      "version": 1,
      "views": {
       "grid_default": {
        "col": 4,
        "height": 9,
        "hidden": false,
        "row": 12,
        "width": 4
       },
       "report_default": {}
      }
     }
    }
   },
   "outputs": [
    {
     "data": {
      "text/plain": [
       "category\n",
       "bars            8.847737\n",
       "coffee          6.652949\n",
       "mexican         6.447188\n",
       "pizza           5.075446\n",
       "delis           4.183813\n",
       "chinese         4.046639\n",
       "bakeries        3.635117\n",
       "newamerican     3.360768\n",
       "cocktailbars    2.812071\n",
       "italian         2.263374\n",
       "latin           2.263374\n",
       "Name: alias, dtype: float64"
      ]
     },
     "execution_count": 77,
     "metadata": {},
     "output_type": "execute_result"
    }
   ],
   "source": [
    "# count of restaurants Top 10\n",
    "top_10_cat_williamsburg = williamsburg_category_count[:11]\n",
    "100*top_10_cat_williamsburg/length_williamsburg"
   ]
  },
  {
   "cell_type": "code",
   "execution_count": 78,
   "metadata": {
    "extensions": {
     "jupyter_dashboards": {
      "version": 1,
      "views": {
       "grid_default": {
        "col": 8,
        "height": 9,
        "hidden": false,
        "row": 12,
        "width": 4
       },
       "report_default": {}
      }
     }
    }
   },
   "outputs": [
    {
     "data": {
      "text/plain": [
       "category\n",
       "coffee          9.852217\n",
       "pizza           6.650246\n",
       "chinese         5.911330\n",
       "caribbean       4.926108\n",
       "bakeries        4.679803\n",
       "bars            3.448276\n",
       "mexican         2.955665\n",
       "indpak          2.955665\n",
       "cocktailbars    2.709360\n",
       "delis           2.709360\n",
       "cafes           2.463054\n",
       "Name: alias, dtype: float64"
      ]
     },
     "execution_count": 78,
     "metadata": {},
     "output_type": "execute_result"
    }
   ],
   "source": [
    "bushwick_category_count = yelp_bushwick_cleaned.groupby('category').count()\n",
    "bushwick_category_count = bushwick_category_count.sort_values(by = ['alias'], ascending = False)\n",
    "bushwick_category_count = bushwick_category_count['alias']\n",
    "100*bushwick_category_count[:11]/length_bushwick"
   ]
  },
  {
   "cell_type": "code",
   "execution_count": 264,
   "metadata": {},
   "outputs": [
    {
     "ename": "TypeError",
     "evalue": "'numpy.ndarray' object is not callable",
     "output_type": "error",
     "traceback": [
      "\u001b[0;31m---------------------------------------------------------------------------\u001b[0m",
      "\u001b[0;31mTypeError\u001b[0m                                 Traceback (most recent call last)",
      "\u001b[0;32m<ipython-input-264-78e4d090efda>\u001b[0m in \u001b[0;36m<module>\u001b[0;34m()\u001b[0m\n\u001b[1;32m      6\u001b[0m     \u001b[0;32mreturn\u001b[0m \u001b[0;34m\"{:.1f}%\"\u001b[0m\u001b[0;34m.\u001b[0m\u001b[0mformat\u001b[0m\u001b[0;34m(\u001b[0m\u001b[0mpct\u001b[0m\u001b[0;34m)\u001b[0m\u001b[0;34m\u001b[0m\u001b[0m\n\u001b[1;32m      7\u001b[0m \u001b[0;34m\u001b[0m\u001b[0m\n\u001b[0;32m----> 8\u001b[0;31m \u001b[0mwedges\u001b[0m\u001b[0;34m,\u001b[0m \u001b[0mtexts\u001b[0m\u001b[0;34m,\u001b[0m \u001b[0mautotexts\u001b[0m \u001b[0;34m=\u001b[0m \u001b[0max\u001b[0m\u001b[0;34m.\u001b[0m\u001b[0mpie\u001b[0m\u001b[0;34m(\u001b[0m\u001b[0mdata\u001b[0m\u001b[0;34m,\u001b[0m \u001b[0mautopct\u001b[0m\u001b[0;34m=\u001b[0m\u001b[0mlist\u001b[0m\u001b[0;34m(\u001b[0m\u001b[0mdata\u001b[0m\u001b[0;34m.\u001b[0m\u001b[0mvalues\u001b[0m\u001b[0;34m(\u001b[0m\u001b[0;34m)\u001b[0m\u001b[0;34m)\u001b[0m\u001b[0;34m,\u001b[0m \u001b[0mtextprops\u001b[0m\u001b[0;34m=\u001b[0m\u001b[0mdict\u001b[0m\u001b[0;34m(\u001b[0m\u001b[0mcolor\u001b[0m\u001b[0;34m=\u001b[0m\u001b[0;34m\"w\"\u001b[0m\u001b[0;34m)\u001b[0m\u001b[0;34m)\u001b[0m\u001b[0;34m\u001b[0m\u001b[0m\n\u001b[0m\u001b[1;32m      9\u001b[0m \u001b[0;34m\u001b[0m\u001b[0m\n\u001b[1;32m     10\u001b[0m \u001b[0max\u001b[0m\u001b[0;34m.\u001b[0m\u001b[0mpie\u001b[0m\u001b[0;34m(\u001b[0m\u001b[0mdata\u001b[0m\u001b[0;34m,\u001b[0m \u001b[0mlabels\u001b[0m \u001b[0;34m=\u001b[0m \u001b[0mlabel\u001b[0m\u001b[0;34m)\u001b[0m\u001b[0;34m\u001b[0m\u001b[0m\n",
      "\u001b[0;31mTypeError\u001b[0m: 'numpy.ndarray' object is not callable"
     ]
    },
    {
     "data": {
      "image/png": "[encoded data removed]",
      "text/plain": [
       "<Figure size 432x216 with 1 Axes>"
      ]
     },
     "metadata": {},
     "output_type": "display_data"
    }
   ],
   "source": [
    "data = 100*bushwick_category_count[:11]/length_bushwick\n",
    "fig, ax = plt.subplots(figsize=(6, 3), subplot_kw=dict(aspect=\"equal\"))\n",
    "label = bushwick_category_count.keys()[:11]\n",
    "\n",
    "def func(pct):\n",
    "    return \"{:.1f}%\".format(pct)\n",
    "\n",
    "wedges, texts, autotexts = ax.pie(data, autopct=list(data.values()), textprops=dict(color=\"w\"))\n",
    "\n",
    "ax.pie(data, labels = label)\n",
    "ax.legend(wedges, label,\n",
    "          title=\"Ingredients\",\n",
    "          loc=\"center left\",\n",
    "          bbox_to_anchor=(1, 0, 0.5, 1))\n",
    "plt.setp(autotexts, size=8, weight=\"bold\")\n",
    "ax.set_title(\"Top 10 business category - Bushwick\")\n",
    "plt.show"
   ]
  },
  {
   "cell_type": "code",
   "execution_count": 79,
   "metadata": {
    "extensions": {
     "jupyter_dashboards": {
      "version": 1,
      "views": {
       "grid_default": {
        "col": 0,
        "height": 9,
        "hidden": false,
        "row": 15,
        "width": 4
       },
       "report_default": {}
      }
     }
    }
   },
   "outputs": [
    {
     "data": {
      "text/plain": [
       "category\n",
       "mexican     7.819905\n",
       "chinese     7.819905\n",
       "pizza       6.398104\n",
       "bakeries    5.687204\n",
       "delis       5.450237\n",
       "coffee      3.791469\n",
       "latin       3.080569\n",
       "hotdogs     2.843602\n",
       "cafes       2.369668\n",
       "desserts    2.369668\n",
       "burgers     2.369668\n",
       "Name: alias, dtype: float64"
      ]
     },
     "execution_count": 79,
     "metadata": {},
     "output_type": "execute_result"
    }
   ],
   "source": [
    "east_harlem_category_count = yelp_east_harlem_cleaned.groupby('category').count()\n",
    "east_harlem_category_count = east_harlem_category_count.sort_values(by = ['alias'], ascending = False)\n",
    "east_harlem_category_count = east_harlem_category_count['alias']\n",
    "100*east_harlem_category_count[:11]/length_east_harlem"
   ]
  },
  {
   "cell_type": "code",
   "execution_count": 80,
   "metadata": {
    "extensions": {
     "jupyter_dashboards": {
      "version": 1,
      "views": {
       "grid_default": {
        "col": 4,
        "height": 9,
        "hidden": false,
        "row": 21,
        "width": 4
       },
       "report_default": {}
      }
     }
    }
   },
   "outputs": [
    {
     "data": {
      "text/plain": [
       "category\n",
       "italian         7.085714\n",
       "newamerican     6.438095\n",
       "coffee          5.980952\n",
       "pizza           3.733333\n",
       "japanese        3.276190\n",
       "bakeries        2.819048\n",
       "mexican         2.742857\n",
       "bars            2.590476\n",
       "tradamerican    2.590476\n",
       "french          2.247619\n",
       "sushi           2.209524\n",
       "Name: alias, dtype: float64"
      ]
     },
     "execution_count": 80,
     "metadata": {},
     "output_type": "execute_result"
    }
   ],
   "source": [
    "chelsea_clinton_category_count = yelp_chelsea_clinton.groupby('category').count()\n",
    "chelsea_clinton_category_count = chelsea_clinton_category_count.sort_values(by = ['alias'], ascending = False)\n",
    "chelsea_clinton_category_count = chelsea_clinton_category_count['alias']\n",
    "100*(chelsea_clinton_category_count[:11]/length_chelsea_clinton)"
   ]
  },
  {
   "cell_type": "code",
   "execution_count": 84,
   "metadata": {
    "extensions": {
     "jupyter_dashboards": {
      "version": 1,
      "views": {
       "grid_default": {
        "hidden": true
       },
       "report_default": {}
      }
     }
    }
   },
   "outputs": [],
   "source": [
    "# list of category to focus on for this project (top 10 categories from williamsburg data)\n",
    "list_of_restaurant_cat = list(top_10_cat_williamsburg.keys())\n",
    "# list_of_restaurant_cat"
   ]
  },
  {
   "cell_type": "code",
   "execution_count": 82,
   "metadata": {
    "extensions": {
     "jupyter_dashboards": {
      "version": 1,
      "views": {
       "grid_default": {
        "hidden": true
       },
       "report_default": {}
      }
     }
    }
   },
   "outputs": [],
   "source": [
    "# count number of new restaurants in the top 10 category list, per month\n",
    "def df_with_list_of_restaurant_cat(category_list, df):\n",
    "    for cat in category_list:\n",
    "        df[cat] = (df['category'] == cat).astype('int')\n",
    "    return df"
   ]
  },
  {
   "cell_type": "code",
   "execution_count": 85,
   "metadata": {
    "extensions": {
     "jupyter_dashboards": {
      "version": 1,
      "views": {
       "grid_default": {
        "hidden": true
       },
       "report_default": {}
      }
     }
    }
   },
   "outputs": [],
   "source": [
    "yelp_williamsburg = df_with_list_of_restaurant_cat(list_of_restaurant_cat, yelp_williamsburg)\n",
    "# aggregate\n",
    "group_by_cat_count = yelp_williamsburg.groupby(yelp_williamsburg['oldest_review'].dt.to_period(\"M\")).agg('sum')"
   ]
  },
  {
   "cell_type": "code",
   "execution_count": 87,
   "metadata": {
    "extensions": {
     "jupyter_dashboards": {
      "version": 1,
      "views": {
       "grid_default": {
        "hidden": true
       },
       "report_default": {}
      }
     }
    }
   },
   "outputs": [],
   "source": [
    "# yelp_williamsburg_count_cat = group_by_cat_count.loc[:, list_of_restaurant_cat[0]:]\n",
    "# yelp_williamsburg_count_cat['total_count'] = group_by['alias']"
   ]
  },
  {
   "cell_type": "code",
   "execution_count": 88,
   "metadata": {
    "extensions": {
     "jupyter_dashboards": {
      "version": 1,
      "views": {
       "grid_default": {
        "hidden": true
       },
       "report_default": {}
      }
     }
    }
   },
   "outputs": [],
   "source": [
    "# group by month and take means for prices/rating\n",
    "yelp_williamsburg_avg_by_month = yelp_williamsburg.groupby(yelp_williamsburg['oldest_review'].dt.to_period(\"M\")).agg('mean')\n",
    "yelp_williamsburg_price_avg = yelp_williamsburg_avg_by_month['price']\n",
    "yelp_williamsburg_rating_avg = yelp_williamsburg_avg_by_month['rating']"
   ]
  },
  {
   "cell_type": "code",
   "execution_count": 89,
   "metadata": {
    "extensions": {
     "jupyter_dashboards": {
      "version": 1,
      "views": {
       "grid_default": {
        "hidden": true
       },
       "report_default": {}
      }
     }
    }
   },
   "outputs": [],
   "source": [
    "# create new columns for avg rating and price\n",
    "yelp_williamsburg_count_cat['avg_rating'] = yelp_williamsburg_rating_avg\n",
    "yelp_williamsburg_count_cat['avg_price'] = yelp_williamsburg_price_avg"
   ]
  },
  {
   "cell_type": "code",
   "execution_count": 204,
   "metadata": {
    "extensions": {
     "jupyter_dashboards": {
      "version": 1,
      "views": {
       "grid_default": {
        "hidden": true
       },
       "report_default": {}
      }
     }
    }
   },
   "outputs": [],
   "source": [
    "# cut off the time\n",
    "yelp_williamsburg_count_cat = yelp_williamsburg_count_cat.loc[(yelp_williamsburg_count_cat.index >= '2011-11') & (yelp_williamsburg_count_cat.index < '2018-09')]\n",
    "yelp_williamsburg_count_cat.index = rent_studio_williamsburg.index"
   ]
  },
  {
   "cell_type": "code",
   "execution_count": 205,
   "metadata": {
    "extensions": {
     "jupyter_dashboards": {
      "version": 1,
      "views": {
       "grid_default": {
        "hidden": true
       },
       "report_default": {}
      }
     }
    }
   },
   "outputs": [],
   "source": [
    "yelp_williamsburg_one_hot_cumsum.index = rent_studio_williamsburg.index"
   ]
  },
  {
   "cell_type": "code",
   "execution_count": 206,
   "metadata": {
    "extensions": {
     "jupyter_dashboards": {
      "version": 1,
      "views": {
       "grid_default": {
        "hidden": true
       },
       "report_default": {}
      }
     }
    }
   },
   "outputs": [],
   "source": [
    "williamsburg_cumsum_avg_rent = pd.concat([yelp_williamsburg_one_hot_cumsum, yelp_williamsburg_count_cat.loc[:,'avg_rating':'avg_price'],rent_studio_williamsburg], axis = 1)"
   ]
  },
  {
   "cell_type": "code",
   "execution_count": 207,
   "metadata": {
    "extensions": {
     "jupyter_dashboards": {
      "version": 1,
      "views": {
       "grid_default": {
        "hidden": true
       },
       "report_default": {}
      }
     }
    }
   },
   "outputs": [
    {
     "data": {
      "text/plain": [
       "[<matplotlib.lines.Line2D at 0x1c179f5d68>]"
      ]
     },
     "execution_count": 207,
     "metadata": {},
     "output_type": "execute_result"
    },
    {
     "data": {
      "image/png": "[encoded data removed]",
      "text/plain": [
       "<Figure size 432x288 with 1 Axes>"
      ]
     },
     "metadata": {},
     "output_type": "display_data"
    }
   ],
   "source": [
    "plt.plot(williamsburg_cumsum_avg_rent['rent'])"
   ]
  },
  {
   "cell_type": "code",
   "execution_count": 208,
   "metadata": {
    "extensions": {
     "jupyter_dashboards": {
      "version": 1,
      "views": {
       "grid_default": {
        "hidden": true
       },
       "report_default": {}
      }
     }
    }
   },
   "outputs": [
    {
     "data": {
      "text/plain": [
       "<matplotlib.collections.PathCollection at 0x1c190b4940>"
      ]
     },
     "execution_count": 208,
     "metadata": {},
     "output_type": "execute_result"
    },
    {
     "data": {
      "image/png": "[encoded data removed]",
      "text/plain": [
       "<Figure size 432x288 with 1 Axes>"
      ]
     },
     "metadata": {},
     "output_type": "display_data"
    }
   ],
   "source": [
    "plt.scatter(williamsburg_cumsum_avg_rent.index, williamsburg_cumsum_avg_rent['category_bars'])"
   ]
  },
  {
   "cell_type": "code",
   "execution_count": 209,
   "metadata": {
    "extensions": {
     "jupyter_dashboards": {
      "version": 1,
      "views": {
       "grid_default": {
        "hidden": true
       },
       "report_default": {}
      }
     }
    }
   },
   "outputs": [
    {
     "data": {
      "text/plain": [
       "<matplotlib.collections.PathCollection at 0x1c2214e5c0>"
      ]
     },
     "execution_count": 209,
     "metadata": {},
     "output_type": "execute_result"
    },
    {
     "data": {
      "image/png": "[encoded data removed]",
      "text/plain": [
       "<Figure size 432x288 with 1 Axes>"
      ]
     },
     "metadata": {},
     "output_type": "display_data"
    }
   ],
   "source": [
    "plt.scatter(np.log(williamsburg_cumsum_avg_rent['category_bars']), williamsburg_cumsum_avg_rent['rent'])"
   ]
  },
  {
   "cell_type": "code",
   "execution_count": 210,
   "metadata": {
    "extensions": {
     "jupyter_dashboards": {
      "version": 1,
      "views": {
       "grid_default": {
        "hidden": true
       },
       "report_default": {}
      }
     }
    }
   },
   "outputs": [
    {
     "data": {
      "text/plain": [
       "<matplotlib.axes._subplots.AxesSubplot at 0x1c18313e48>"
      ]
     },
     "execution_count": 210,
     "metadata": {},
     "output_type": "execute_result"
    },
    {
     "data": {
      "image/png": "[encoded data removed]",
      "text/plain": [
       "<Figure size 432x288 with 1 Axes>"
      ]
     },
     "metadata": {},
     "output_type": "display_data"
    }
   ],
   "source": [
    "yelp_williamsburg_count_cat['avg_rating'].plot()"
   ]
  },
  {
   "cell_type": "code",
   "execution_count": 214,
   "metadata": {
    "extensions": {
     "jupyter_dashboards": {
      "version": 1,
      "views": {
       "grid_default": {
        "hidden": true
       },
       "report_default": {}
      }
     }
    }
   },
   "outputs": [
    {
     "data": {
      "text/plain": [
       "<matplotlib.axes._subplots.AxesSubplot at 0x1c2214eba8>"
      ]
     },
     "execution_count": 214,
     "metadata": {},
     "output_type": "execute_result"
    },
    {
     "data": {
      "image/png": "[encoded data removed]",
      "text/plain": [
       "<Figure size 432x288 with 1 Axes>"
      ]
     },
     "metadata": {},
     "output_type": "display_data"
    }
   ],
   "source": [
    "# yelp_williamsburg_count_cat['avg_rating'].plot()\n",
    "avg_rating_decomp = seasonal_decompose(yelp_williamsburg_count_cat['avg_rating'])\n",
    "avg_rating_decomp.trend.plot()\n",
    "# trend_williamsburg.plot()"
   ]
  },
  {
   "cell_type": "code",
   "execution_count": 215,
   "metadata": {
    "extensions": {
     "jupyter_dashboards": {
      "version": 1,
      "views": {
       "grid_default": {
        "hidden": true
       },
       "report_default": {}
      }
     }
    }
   },
   "outputs": [
    {
     "data": {
      "text/plain": [
       "<matplotlib.axes._subplots.AxesSubplot at 0x1c18275518>"
      ]
     },
     "execution_count": 215,
     "metadata": {},
     "output_type": "execute_result"
    },
    {
     "data": {
      "image/png": "[encoded data removed]",
      "text/plain": [
       "<Figure size 432x288 with 1 Axes>"
      ]
     },
     "metadata": {},
     "output_type": "display_data"
    }
   ],
   "source": [
    "yelp_williamsburg_count_cat['avg_price'].plot()"
   ]
  },
  {
   "cell_type": "code",
   "execution_count": 216,
   "metadata": {
    "extensions": {
     "jupyter_dashboards": {
      "version": 1,
      "views": {
       "grid_default": {
        "hidden": true
       },
       "report_default": {}
      }
     }
    }
   },
   "outputs": [],
   "source": [
    "yelp_williamsburg_count_cat.index = rent_studio_williamsburg.index"
   ]
  },
  {
   "cell_type": "code",
   "execution_count": 217,
   "metadata": {
    "extensions": {
     "jupyter_dashboards": {
      "version": 1,
      "views": {
       "grid_default": {
        "hidden": true
       },
       "report_default": {}
      }
     }
    }
   },
   "outputs": [
    {
     "data": {
      "text/html": [
       "<div>\n",
       "<style scoped>\n",
       "    .dataframe tbody tr th:only-of-type {\n",
       "        vertical-align: middle;\n",
       "    }\n",
       "\n",
       "    .dataframe tbody tr th {\n",
       "        vertical-align: top;\n",
       "    }\n",
       "\n",
       "    .dataframe thead th {\n",
       "        text-align: right;\n",
       "    }\n",
       "</style>\n",
       "<table border=\"1\" class=\"dataframe\">\n",
       "  <thead>\n",
       "    <tr style=\"text-align: right;\">\n",
       "      <th></th>\n",
       "      <th>bars</th>\n",
       "      <th>coffee</th>\n",
       "      <th>mexican</th>\n",
       "      <th>pizza</th>\n",
       "      <th>delis</th>\n",
       "      <th>chinese</th>\n",
       "      <th>bakeries</th>\n",
       "      <th>newamerican</th>\n",
       "      <th>cocktailbars</th>\n",
       "      <th>italian</th>\n",
       "      <th>latin</th>\n",
       "      <th>avg_rating</th>\n",
       "      <th>avg_price</th>\n",
       "    </tr>\n",
       "  </thead>\n",
       "  <tbody>\n",
       "    <tr>\n",
       "      <th>2011-11-01</th>\n",
       "      <td>0</td>\n",
       "      <td>1</td>\n",
       "      <td>0</td>\n",
       "      <td>0</td>\n",
       "      <td>0</td>\n",
       "      <td>0</td>\n",
       "      <td>0</td>\n",
       "      <td>1</td>\n",
       "      <td>0</td>\n",
       "      <td>0</td>\n",
       "      <td>2</td>\n",
       "      <td>4.166667</td>\n",
       "      <td>1.500000</td>\n",
       "    </tr>\n",
       "    <tr>\n",
       "      <th>2011-12-01</th>\n",
       "      <td>3</td>\n",
       "      <td>0</td>\n",
       "      <td>0</td>\n",
       "      <td>1</td>\n",
       "      <td>1</td>\n",
       "      <td>2</td>\n",
       "      <td>0</td>\n",
       "      <td>0</td>\n",
       "      <td>0</td>\n",
       "      <td>0</td>\n",
       "      <td>1</td>\n",
       "      <td>3.250000</td>\n",
       "      <td>1.461538</td>\n",
       "    </tr>\n",
       "    <tr>\n",
       "      <th>2012-01-01</th>\n",
       "      <td>1</td>\n",
       "      <td>1</td>\n",
       "      <td>1</td>\n",
       "      <td>0</td>\n",
       "      <td>1</td>\n",
       "      <td>1</td>\n",
       "      <td>0</td>\n",
       "      <td>0</td>\n",
       "      <td>0</td>\n",
       "      <td>0</td>\n",
       "      <td>0</td>\n",
       "      <td>3.750000</td>\n",
       "      <td>1.727273</td>\n",
       "    </tr>\n",
       "    <tr>\n",
       "      <th>2012-02-01</th>\n",
       "      <td>0</td>\n",
       "      <td>1</td>\n",
       "      <td>0</td>\n",
       "      <td>0</td>\n",
       "      <td>0</td>\n",
       "      <td>0</td>\n",
       "      <td>0</td>\n",
       "      <td>0</td>\n",
       "      <td>0</td>\n",
       "      <td>0</td>\n",
       "      <td>0</td>\n",
       "      <td>3.750000</td>\n",
       "      <td>1.500000</td>\n",
       "    </tr>\n",
       "    <tr>\n",
       "      <th>2012-03-01</th>\n",
       "      <td>2</td>\n",
       "      <td>0</td>\n",
       "      <td>0</td>\n",
       "      <td>0</td>\n",
       "      <td>0</td>\n",
       "      <td>0</td>\n",
       "      <td>0</td>\n",
       "      <td>0</td>\n",
       "      <td>0</td>\n",
       "      <td>0</td>\n",
       "      <td>0</td>\n",
       "      <td>3.833333</td>\n",
       "      <td>1.500000</td>\n",
       "    </tr>\n",
       "  </tbody>\n",
       "</table>\n",
       "</div>"
      ],
      "text/plain": [
       "            bars  coffee  mexican  pizza  delis  chinese  bakeries  \\\n",
       "2011-11-01     0       1        0      0      0        0         0   \n",
       "2011-12-01     3       0        0      1      1        2         0   \n",
       "2012-01-01     1       1        1      0      1        1         0   \n",
       "2012-02-01     0       1        0      0      0        0         0   \n",
       "2012-03-01     2       0        0      0      0        0         0   \n",
       "\n",
       "            newamerican  cocktailbars  italian  latin  avg_rating  avg_price  \n",
       "2011-11-01            1             0        0      2    4.166667   1.500000  \n",
       "2011-12-01            0             0        0      1    3.250000   1.461538  \n",
       "2012-01-01            0             0        0      0    3.750000   1.727273  \n",
       "2012-02-01            0             0        0      0    3.750000   1.500000  \n",
       "2012-03-01            0             0        0      0    3.833333   1.500000  "
      ]
     },
     "execution_count": 217,
     "metadata": {},
     "output_type": "execute_result"
    }
   ],
   "source": [
    "yelp_williamsburg_count_cat.head()"
   ]
  },
  {
   "cell_type": "code",
   "execution_count": 218,
   "metadata": {
    "extensions": {
     "jupyter_dashboards": {
      "version": 1,
      "views": {
       "grid_default": {
        "hidden": true
       },
       "report_default": {}
      }
     }
    }
   },
   "outputs": [],
   "source": [
    "# def percentage_each_cat(df, category_list):\n",
    "#     for item in category_list:\n",
    "#         column = item + '_%'\n",
    "#         df[column] = 100*(df[item]/df['total_count'])\n",
    "#     return df"
   ]
  },
  {
   "cell_type": "code",
   "execution_count": 219,
   "metadata": {
    "extensions": {
     "jupyter_dashboards": {
      "version": 1,
      "views": {
       "grid_default": {
        "hidden": true
       },
       "report_default": {}
      }
     }
    }
   },
   "outputs": [],
   "source": [
    "# yelp_williamsburg_count_cat = percentage_each_cat(yelp_williamsburg_count_cat,list_of_restaurant_cat )"
   ]
  },
  {
   "cell_type": "code",
   "execution_count": 220,
   "metadata": {
    "extensions": {
     "jupyter_dashboards": {
      "version": 1,
      "views": {
       "grid_default": {
        "hidden": true
       },
       "report_default": {}
      }
     }
    }
   },
   "outputs": [],
   "source": [
    "def one_hot_encoding_w_category(df):\n",
    "    df_one_hot = df[['alias', 'category', 'oldest_review']]\n",
    "    df_one_hot = pd.get_dummies(df_one_hot, columns = ['category'])\n",
    "    df_one_hot = df_one_hot.groupby(df_one_hot['oldest_review'].dt.to_period(\"M\")).agg('sum')\n",
    "    one_hot_cumsum = df_one_hot.cumsum()\n",
    "    one_hot_cumsum = one_hot_cumsum[(one_hot_cumsum.index >= \"2011-11\")&(one_hot_cumsum.index < \"2018-09\")]\n",
    "    return df_one_hot, one_hot_cumsum"
   ]
  },
  {
   "cell_type": "code",
   "execution_count": 221,
   "metadata": {
    "extensions": {
     "jupyter_dashboards": {
      "version": 1,
      "views": {
       "grid_default": {
        "hidden": true
       },
       "report_default": {}
      }
     }
    }
   },
   "outputs": [],
   "source": [
    "## PUT THESE TOGETHER IN THE FUNCTION ABOVE\n",
    "yelp_williamsburg_one_hot_category = yelp_williamsburg[['alias', 'category', 'oldest_review']]\n",
    "yelp_williamsburg_one_hot_category = pd.get_dummies(yelp_williamsburg_one_hot_category, columns = ['category'])\n",
    "yelp_williamsburg_one_hot = yelp_williamsburg_one_hot_category.groupby(yelp_williamsburg_one_hot_category['oldest_review'].dt.to_period(\"M\")).agg('sum')\n",
    "yelp_williamsburg_one_hot_cumsum = yelp_williamsburg_one_hot.cumsum()\n",
    "yelp_williamsburg_one_hot_cumsum = yelp_williamsburg_one_hot_cumsum[(yelp_williamsburg_one_hot_cumsum.index >= \"2011-11\")&(yelp_williamsburg_one_hot_cumsum.index < \"2018-09\")]"
   ]
  },
  {
   "cell_type": "code",
   "execution_count": 222,
   "metadata": {
    "extensions": {
     "jupyter_dashboards": {
      "version": 1,
      "views": {
       "grid_default": {
        "hidden": true
       },
       "report_default": {}
      }
     }
    }
   },
   "outputs": [],
   "source": [
    "yelp_williamsburg_one_hot_category, yelp_williamsburg_one_hot_cumsum = one_hot_encoding_w_category(yelp_williamsburg_cleaned)"
   ]
  },
  {
   "cell_type": "code",
   "execution_count": 223,
   "metadata": {
    "extensions": {
     "jupyter_dashboards": {
      "version": 1,
      "views": {
       "grid_default": {
        "hidden": true
       },
       "report_default": {}
      }
     }
    }
   },
   "outputs": [],
   "source": [
    "yelp_williamsburg_one_hot_category = yelp_williamsburg_one_hot_category[yelp_williamsburg_one_hot_category.index >= '2011-11']"
   ]
  },
  {
   "cell_type": "code",
   "execution_count": 224,
   "metadata": {
    "extensions": {
     "jupyter_dashboards": {
      "version": 1,
      "views": {
       "grid_default": {
        "hidden": true
       },
       "report_default": {}
      }
     }
    }
   },
   "outputs": [],
   "source": [
    "yelp_bushwick_one_hot_category, yelp_bushwick_one_hot_cumsum = one_hot_encoding_w_category(yelp_bushwick_cleaned)\n",
    "yelp_east_harlem_one_hot_category, yelp_east_harlem_one_hot_cumsum = one_hot_encoding_w_category(yelp_east_harlem_cleaned)"
   ]
  },
  {
   "cell_type": "code",
   "execution_count": 225,
   "metadata": {
    "extensions": {
     "jupyter_dashboards": {
      "version": 1,
      "views": {
       "grid_default": {
        "hidden": true
       },
       "report_default": {}
      }
     }
    }
   },
   "outputs": [],
   "source": [
    "yelp_bushwick_one_hot_category.to_csv('bushwick_one_hot_cat.csv')\n",
    "yelp_williamsburg_one_hot_category.to_csv('williamsburg_one_hot_category.csv')\n",
    "yelp_chelsea_clinton_one_hot_category.to_csv('chelsea_clinton_one_hot_category.csv')\n",
    "yelp_east_harlem_one_hot_category.to_csv('east_harlem_one_hot_category.csv')"
   ]
  },
  {
   "cell_type": "code",
   "execution_count": 226,
   "metadata": {
    "extensions": {
     "jupyter_dashboards": {
      "version": 1,
      "views": {
       "grid_default": {
        "hidden": true
       },
       "report_default": {}
      }
     }
    }
   },
   "outputs": [],
   "source": [
    "yelp_chelsea_clinton_one_hot_category, yelp_chelsea_clinton_one_hot_cumsum = one_hot_encoding_w_category(yelp_chelsea_clinton_cleaned)"
   ]
  },
  {
   "cell_type": "code",
   "execution_count": 227,
   "metadata": {
    "extensions": {
     "jupyter_dashboards": {
      "version": 1,
      "views": {
       "grid_default": {
        "hidden": true
       },
       "report_default": {}
      }
     }
    }
   },
   "outputs": [],
   "source": [
    "def normalize(df):\n",
    "    max_ = df.max()\n",
    "    min_ = df.min()\n",
    "    norm = (df - bmin_)/(max_-min_)\n",
    "    return norm"
   ]
  },
  {
   "cell_type": "code",
   "execution_count": 241,
   "metadata": {},
   "outputs": [],
   "source": [
    "yelp_williamsburg_one_hot_cumsum.to_csv('yelp_williamsburg_one_hot_cumsum.csv')\n",
    "yelp_bushwick_one_hot_cumsum.to_csv('yelp_bushwick_one_hot_cumsum.csv')\n",
    "yelp_east_harlem_one_hot_cumsum.to_csv('yelp_east_harlem_one_hot_cumsum.csv')\n",
    "yelp_chelsea_clinton_one_hot_cumsum.to_csv('yelp_chelsea_clinton_one_hot_cumsum.csv')"
   ]
  },
  {
   "cell_type": "code",
   "execution_count": 228,
   "metadata": {
    "extensions": {
     "jupyter_dashboards": {
      "version": 1,
      "views": {
       "grid_default": {
        "hidden": true
       },
       "report_default": {}
      }
     }
    }
   },
   "outputs": [],
   "source": [
    "# cafe\n",
    "# williamsburg\n",
    "cafe_williamsburg = yelp_williamsburg_one_hot_cumsum['category_coffee']\n",
    "# bushwick\n",
    "cafe_bushwick = yelp_bushwick_one_hot_cumsum['category_coffee']\n",
    "#east harlem \n",
    "cafe_east_harlem = yelp_east_harlem_one_hot_cumsum['category_coffee']\n",
    "\n",
    "#chelsea clinton \n",
    "cafe_chelsea_clinton = yelp_chelsea_clinton_one_hot_cumsum['category_coffee']"
   ]
  },
  {
   "cell_type": "code",
   "execution_count": 229,
   "metadata": {
    "extensions": {
     "jupyter_dashboards": {
      "version": 1,
      "views": {
       "grid_default": {
        "hidden": true
       },
       "report_default": {}
      }
     }
    }
   },
   "outputs": [],
   "source": [
    "yelp_williamsburg_cafe_perc_change = cafe_williamsburg.apply(lambda x: 100*(x - cafe_williamsburg.iloc[0])/cafe_williamsburg.iloc[0])\n",
    "yelp_bushwick_cafe_perc_change = cafe_bushwick.apply(lambda x: 100*(x - cafe_bushwick.iloc[0])/cafe_bushwick.iloc[0])\n",
    "yelp_east_harlem_cafe_perc_change = cafe_east_harlem.apply(lambda x: 100*(x - cafe_east_harlem.iloc[0])/cafe_east_harlem.iloc[0])\n",
    "yelp_chelsea_clinton_cafe_perc_change = cafe_chelsea_clinton.apply(lambda x: 100*(x - cafe_chelsea_clinton.iloc[0])/cafe_chelsea_clinton.iloc[0])"
   ]
  },
  {
   "cell_type": "code",
   "execution_count": 231,
   "metadata": {
    "extensions": {
     "jupyter_dashboards": {
      "version": 1,
      "views": {
       "grid_default": {
        "hidden": true
       },
       "report_default": {}
      }
     }
    }
   },
   "outputs": [
    {
     "data": {
      "text/plain": [
       "Text(0.5,1,'cumulative growth in cafes')"
      ]
     },
     "execution_count": 231,
     "metadata": {},
     "output_type": "execute_result"
    },
    {
     "data": {
      "image/png": "[encoded data removed]",
      "text/plain": [
       "<Figure size 432x288 with 1 Axes>"
      ]
     },
     "metadata": {},
     "output_type": "display_data"
    }
   ],
   "source": [
    "yelp_williamsburg_cafe_perc_change.plot()\n",
    "yelp_bushwick_cafe_perc_change.plot()\n",
    "yelp_east_harlem_cafe_perc_change.plot()\n",
    "yelp_chelsea_clinton_cafe_perc_change.plot()\n",
    "plt.legend(['Williamsburg', 'Bushwick', \"East Harlem\", \"Chelsea & Clinton \"])\n",
    "plt.title('cumulative growth in cafes')"
   ]
  },
  {
   "cell_type": "code",
   "execution_count": 232,
   "metadata": {
    "extensions": {
     "jupyter_dashboards": {
      "version": 1,
      "views": {
       "grid_default": {
        "hidden": true
       },
       "report_default": {}
      }
     }
    }
   },
   "outputs": [],
   "source": [
    "# bars\n",
    "# williamsburg\n",
    "bars_williamsburg = yelp_williamsburg_one_hot_cumsum['category_bars']\n",
    "# bushwick\n",
    "bars_bushwick = yelp_bushwick_one_hot_cumsum['category_bars']\n",
    "bars_bushwick = bars_bushwick[bars_bushwick.index >= '2012-05-01']\n",
    "#east harlem \n",
    "bars_east_harlem = yelp_east_harlem_one_hot_cumsum['category_bars']\n",
    "#chelsea clinton\n",
    "bars_chelsea_clinton = yelp_chelsea_clinton_one_hot_cumsum['category_bars']"
   ]
  },
  {
   "cell_type": "code",
   "execution_count": 233,
   "metadata": {
    "extensions": {
     "jupyter_dashboards": {
      "version": 1,
      "views": {
       "grid_default": {
        "hidden": true
       },
       "report_default": {}
      }
     }
    }
   },
   "outputs": [],
   "source": [
    "yelp_williamsburg_bars_perc_change = bars_williamsburg.apply(lambda x: 100*(x - bars_williamsburg.iloc[0])/bars_williamsburg.iloc[0])\n",
    "yelp_bushwick_bars_perc_change = bars_bushwick.apply(lambda x: 100*(x - bars_bushwick.iloc[0])/bars_bushwick.iloc[0])\n",
    "yelp_east_harlem_bars_perc_change = bars_east_harlem.apply(lambda x: 100*(x - bars_east_harlem.iloc[0])/bars_east_harlem.iloc[0])\n",
    "yelp_chelsea_clinton_bars_perc_change = bars_chelsea_clinton.apply(lambda x: 100*(x - bars_chelsea_clinton.iloc[0])/bars_chelsea_clinton.iloc[0])"
   ]
  },
  {
   "cell_type": "code",
   "execution_count": 234,
   "metadata": {
    "extensions": {
     "jupyter_dashboards": {
      "version": 1,
      "views": {
       "grid_default": {
        "hidden": true
       },
       "report_default": {}
      }
     }
    }
   },
   "outputs": [
    {
     "data": {
      "text/plain": [
       "Text(0.5,1,'cumulative growth in bars')"
      ]
     },
     "execution_count": 234,
     "metadata": {},
     "output_type": "execute_result"
    },
    {
     "data": {
      "image/png": "[encoded data removed]",
      "text/plain": [
       "<Figure size 432x288 with 1 Axes>"
      ]
     },
     "metadata": {},
     "output_type": "display_data"
    }
   ],
   "source": [
    "yelp_williamsburg_bars_perc_change.plot()\n",
    "yelp_bushwick_bars_perc_change.plot()\n",
    "yelp_east_harlem_bars_perc_change.plot()\n",
    "yelp_chelsea_clinton_bars_perc_change.plot()\n",
    "plt.legend(['Williamsburg', 'Bushwick', \"East Harlem\", \"Chelsea % Clinton\"])\n",
    "plt.title('cumulative growth in bars')"
   ]
  },
  {
   "cell_type": "code",
   "execution_count": 235,
   "metadata": {
    "extensions": {
     "jupyter_dashboards": {
      "version": 1,
      "views": {
       "grid_default": {
        "hidden": true
       },
       "report_default": {}
      }
     }
    }
   },
   "outputs": [],
   "source": [
    "# yelp_williamsburg_one_hot_cumsum.sum(axis = 1).pct_change().cumsum().plot()\n",
    "# yelp_bushwick_one_hot_cumsum.sum(axis = 1).pct_change().cumsum().plot()\n",
    "# plt.legend(['Williamsburg', 'Bushwick'])"
   ]
  },
  {
   "cell_type": "code",
   "execution_count": 236,
   "metadata": {
    "extensions": {
     "jupyter_dashboards": {
      "version": 1,
      "views": {
       "grid_default": {
        "hidden": true
       },
       "report_default": {}
      }
     }
    }
   },
   "outputs": [],
   "source": [
    "yelp_williamsburg_one_hot_cumsum_all_buss = yelp_williamsburg_one_hot_cumsum.sum(axis = 1)\n",
    "yelp_bushwick_one_hot_cumsum_all_buss = yelp_bushwick_one_hot_cumsum.sum(axis = 1)\n",
    "yelp_east_harlem_one_hot_cumsum_all_buss = yelp_east_harlem_one_hot_cumsum.sum(axis = 1)\n",
    "yelp_chelsea_clinton_one_hot_cumsum_all_buss = yelp_chelsea_clinton_one_hot_cumsum.sum(axis = 1)\n",
    "yelp_williamsburg_all_buss_perc_change = yelp_williamsburg_one_hot_cumsum_all_buss.apply(lambda x: 100*(x - yelp_williamsburg_one_hot_cumsum_all_buss.iloc[0])/yelp_williamsburg_one_hot_cumsum_all_buss.iloc[0])\n",
    "yelp_bushwick_all_buss_perc_change = yelp_bushwick_one_hot_cumsum_all_buss.apply(lambda x: 100*(x - yelp_bushwick_one_hot_cumsum_all_buss.iloc[0])/yelp_bushwick_one_hot_cumsum_all_buss.iloc[0])\n",
    "yelp_east_harlem_all_buss_perc_change = yelp_east_harlem_one_hot_cumsum_all_buss.apply(lambda x: 100*(x - yelp_east_harlem_one_hot_cumsum_all_buss.iloc[0])/yelp_east_harlem_one_hot_cumsum_all_buss.iloc[0])"
   ]
  },
  {
   "cell_type": "code",
   "execution_count": 237,
   "metadata": {
    "extensions": {
     "jupyter_dashboards": {
      "version": 1,
      "views": {
       "grid_default": {
        "hidden": true
       },
       "report_default": {}
      }
     }
    }
   },
   "outputs": [],
   "source": [
    "yelp_williamsburg_all_buss_perc_change = yelp_williamsburg_one_hot_cumsum_all_buss.apply(lambda x: 100*(x - yelp_williamsburg_one_hot_cumsum_all_buss.iloc[0])/yelp_williamsburg_one_hot_cumsum_all_buss.iloc[0])\n",
    "yelp_bushwick_all_buss_perc_change = yelp_bushwick_one_hot_cumsum_all_buss.apply(lambda x: 100*(x - yelp_bushwick_one_hot_cumsum_all_buss.iloc[0])/yelp_bushwick_one_hot_cumsum_all_buss.iloc[0])\n",
    "yelp_east_harlem_all_buss_perc_change = yelp_east_harlem_one_hot_cumsum_all_buss.apply(lambda x: 100*(x - yelp_east_harlem_one_hot_cumsum_all_buss.iloc[0])/yelp_east_harlem_one_hot_cumsum_all_buss.iloc[0])"
   ]
  },
  {
   "cell_type": "code",
   "execution_count": 238,
   "metadata": {
    "extensions": {
     "jupyter_dashboards": {
      "version": 1,
      "views": {
       "grid_default": {
        "hidden": true
       },
       "report_default": {}
      }
     }
    }
   },
   "outputs": [],
   "source": [
    "yelp_chelsea_clinton_all_buss_perc_change = yelp_chelsea_clinton_one_hot_cumsum_all_buss.apply(lambda x: 100*(x - yelp_chelsea_clinton_one_hot_cumsum_all_buss.iloc[0])/yelp_chelsea_clinton_one_hot_cumsum_all_buss.iloc[0])"
   ]
  },
  {
   "cell_type": "code",
   "execution_count": 239,
   "metadata": {
    "extensions": {
     "jupyter_dashboards": {
      "version": 1,
      "views": {
       "grid_default": {
        "hidden": true
       },
       "report_default": {}
      }
     }
    }
   },
   "outputs": [],
   "source": [
    "# yelp_williamsburg_normalized.plot()\n",
    "# yelp_bushwick_normalized.plot()"
   ]
  },
  {
   "cell_type": "code",
   "execution_count": 240,
   "metadata": {
    "extensions": {
     "jupyter_dashboards": {
      "version": 1,
      "views": {
       "grid_default": {
        "hidden": true
       },
       "report_default": {}
      }
     }
    }
   },
   "outputs": [
    {
     "data": {
      "text/plain": [
       "Text(0.5,1,'cumulative growth in businesses')"
      ]
     },
     "execution_count": 240,
     "metadata": {},
     "output_type": "execute_result"
    },
    {
     "data": {
      "image/png": "[encoded data removed]",
      "text/plain": [
       "<Figure size 432x288 with 1 Axes>"
      ]
     },
     "metadata": {},
     "output_type": "display_data"
    }
   ],
   "source": [
    "yelp_williamsburg_all_buss_perc_change.plot()\n",
    "yelp_bushwick_all_buss_perc_change.plot()\n",
    "yelp_east_harlem_all_buss_perc_change.plot()\n",
    "yelp_chelsea_clinton_all_buss_perc_change.plot()\n",
    "plt.legend(['Williamsburg', 'Bushwick', \"East Harlem\", \"Chelsea & Clinton\"])\n",
    "plt.title('cumulative growth in businesses')"
   ]
  },
  {
   "cell_type": "markdown",
   "metadata": {
    "extensions": {
     "jupyter_dashboards": {
      "version": 1,
      "views": {
       "grid_default": {
        "col": 8,
        "height": 4,
        "hidden": false,
        "row": 21,
        "width": 4
       },
       "report_default": {}
      }
     }
    }
   },
   "source": [
    "#### Rent - Studio"
   ]
  },
  {
   "cell_type": "code",
   "execution_count": 94,
   "metadata": {
    "extensions": {
     "jupyter_dashboards": {
      "version": 1,
      "views": {
       "grid_default": {
        "hidden": true
       },
       "report_default": {}
      }
     }
    }
   },
   "outputs": [],
   "source": [
    "rent_studio = pd.read_csv('csv/Zip_MedianRentalPrice_Studio.csv')\n",
    "zip_code_list = pd.read_csv('csv/zipcode_by_neighborhood.csv', index_col = 0)"
   ]
  },
  {
   "cell_type": "code",
   "execution_count": 95,
   "metadata": {
    "extensions": {
     "jupyter_dashboards": {
      "version": 1,
      "views": {
       "grid_default": {
        "hidden": true
       },
       "report_default": {}
      }
     }
    }
   },
   "outputs": [],
   "source": [
    "ny_rent_studio = rent_studio[(rent_studio.CountyName == 'Kings')|(rent_studio.CountyName == 'New York')|(rent_studio.CountyName == 'Queens')]"
   ]
  },
  {
   "cell_type": "code",
   "execution_count": 96,
   "metadata": {
    "extensions": {
     "jupyter_dashboards": {
      "version": 1,
      "views": {
       "grid_default": {
        "hidden": true
       },
       "report_default": {}
      }
     }
    }
   },
   "outputs": [],
   "source": [
    "# ny_rent_studio = ny_rent_studio.reset_index()\n",
    "# ny_rent_studio = ny_rent_studio.drop(['index'], axis = 1)\n",
    "region = ny_rent_studio.loc[: ,'RegionName':'SizeRank'] \n",
    "rent_ = ny_rent_studio.loc[: , '2011-11':] \n",
    "ny_rent_studio = pd.concat([region, rent_], axis = 1)"
   ]
  },
  {
   "cell_type": "code",
   "execution_count": 97,
   "metadata": {
    "extensions": {
     "jupyter_dashboards": {
      "version": 1,
      "views": {
       "grid_default": {
        "hidden": true
       },
       "report_default": {}
      }
     }
    }
   },
   "outputs": [],
   "source": [
    "# ny_rent_studio = ny_rent_studio.dropna()\n",
    "ny_rent_studio = ny_rent_studio.reset_index()"
   ]
  },
  {
   "cell_type": "code",
   "execution_count": 98,
   "metadata": {
    "extensions": {
     "jupyter_dashboards": {
      "version": 1,
      "views": {
       "grid_default": {
        "hidden": true
       },
       "report_default": {}
      }
     }
    }
   },
   "outputs": [],
   "source": [
    "ny_rent_studio = ny_rent_studio.drop(['index'], axis =1)"
   ]
  },
  {
   "cell_type": "code",
   "execution_count": 99,
   "metadata": {
    "extensions": {
     "jupyter_dashboards": {
      "version": 1,
      "views": {
       "grid_default": {
        "hidden": true
       },
       "report_default": {}
      }
     }
    }
   },
   "outputs": [],
   "source": [
    "ny_rent_studio['%_increase'] = 100*(ny_rent_studio['2018-08'] - ny_rent_studio['2011-11'])/ny_rent_studio['2011-11']"
   ]
  },
  {
   "cell_type": "code",
   "execution_count": 100,
   "metadata": {
    "extensions": {
     "jupyter_dashboards": {
      "version": 1,
      "views": {
       "grid_default": {
        "hidden": true
       },
       "report_default": {}
      }
     }
    }
   },
   "outputs": [],
   "source": [
    "ny_rent_studio.to_csv('ny_rent_studio.csv')"
   ]
  },
  {
   "cell_type": "code",
   "execution_count": 101,
   "metadata": {
    "extensions": {
     "jupyter_dashboards": {
      "version": 1,
      "views": {
       "grid_default": {
        "col": 0,
        "height": 4,
        "hidden": false,
        "row": 24,
        "width": 4
       },
       "report_default": {}
      }
     }
    },
    "scrolled": true
   },
   "outputs": [
    {
     "data": {
      "text/plain": [
       "21.043191895218484"
      ]
     },
     "execution_count": 101,
     "metadata": {},
     "output_type": "execute_result"
    }
   ],
   "source": [
    "ny_rent_studio['%_increase'].mean()"
   ]
  },
  {
   "cell_type": "code",
   "execution_count": 102,
   "metadata": {
    "extensions": {
     "jupyter_dashboards": {
      "version": 1,
      "views": {
       "grid_default": {
        "hidden": true
       },
       "report_default": {}
      }
     }
    }
   },
   "outputs": [],
   "source": [
    "# Perform the spatial join\n",
    "ny_bk_qn = ny_bk_qn[[\"ZIPCODE\", \"geometry\"]]"
   ]
  },
  {
   "cell_type": "code",
   "execution_count": 103,
   "metadata": {
    "extensions": {
     "jupyter_dashboards": {
      "version": 1,
      "views": {
       "grid_default": {
        "hidden": true
       },
       "report_default": {}
      }
     }
    }
   },
   "outputs": [],
   "source": [
    "ny_bk_qn.columns = ['RegionName', \"geometry\"]"
   ]
  },
  {
   "cell_type": "code",
   "execution_count": 104,
   "metadata": {
    "extensions": {
     "jupyter_dashboards": {
      "version": 1,
      "views": {
       "grid_default": {
        "hidden": true
       },
       "report_default": {}
      }
     }
    }
   },
   "outputs": [],
   "source": [
    "zip_over_23_increase = ny_rent_studio[ny_rent_studio['%_increase'] > 23]\n",
    "zip_over_23_increase = list(zip_over_23_increase['RegionName'].values)\n",
    "zip_over_23_increase = [str(zip_) for zip_ in zip_over_23_increase]"
   ]
  },
  {
   "cell_type": "code",
   "execution_count": 107,
   "metadata": {
    "extensions": {
     "jupyter_dashboards": {
      "version": 1,
      "views": {
       "grid_default": {
        "hidden": true
       },
       "report_default": {}
      }
     }
    }
   },
   "outputs": [],
   "source": [
    "# over_23_increase = ny_bk_qn[ny_bk_qn['ZIPCODE'].isin(zip_over_23_increase)]"
   ]
  },
  {
   "cell_type": "code",
   "execution_count": 108,
   "metadata": {
    "extensions": {
     "jupyter_dashboards": {
      "version": 1,
      "views": {
       "grid_default": {
        "hidden": true
       },
       "report_default": {}
      }
     }
    }
   },
   "outputs": [],
   "source": [
    "# zip_18_23_increase = ny_rent_studio[(ny_rent_studio['%_increase'] <= 23)&(ny_rent_studio['%_increase'] > 18)]\n",
    "# zip_18_23_increase = list(zip_18_23_increase['RegionName'].values)\n",
    "# zip_18_23_increase = [str(zip_) for zip_ in zip_18_23_increase]"
   ]
  },
  {
   "cell_type": "code",
   "execution_count": 109,
   "metadata": {
    "extensions": {
     "jupyter_dashboards": {
      "version": 1,
      "views": {
       "grid_default": {
        "hidden": true
       },
       "report_default": {}
      }
     }
    }
   },
   "outputs": [],
   "source": [
    "# _18_23_increase = ny_bk_qn[ny_bk_qn['ZIPCODE'].isin(zip_18_23_increase)]"
   ]
  },
  {
   "cell_type": "code",
   "execution_count": 110,
   "metadata": {
    "extensions": {
     "jupyter_dashboards": {
      "version": 1,
      "views": {
       "grid_default": {
        "hidden": true
       },
       "report_default": {}
      }
     }
    }
   },
   "outputs": [],
   "source": [
    "# zip_below_18_increase = ny_rent_studio[(ny_rent_studio['%_increase'] <= 18)]\n",
    "# zip_below_18_increase = list(zip_below_18_increase['RegionName'].values)\n",
    "# zip_below_18_increase = [str(zip_) for zip_ in zip_below_18_increase]"
   ]
  },
  {
   "cell_type": "code",
   "execution_count": 112,
   "metadata": {
    "extensions": {
     "jupyter_dashboards": {
      "version": 1,
      "views": {
       "grid_default": {
        "hidden": true
       },
       "report_default": {}
      }
     }
    }
   },
   "outputs": [],
   "source": [
    "# below_18_increase = ny_bk_qn[ny_bk_qn['ZIPCODE'].isin(zip_below_18_increase)]"
   ]
  },
  {
   "cell_type": "code",
   "execution_count": 113,
   "metadata": {
    "extensions": {
     "jupyter_dashboards": {
      "version": 1,
      "views": {
       "grid_default": {
        "hidden": true
       },
       "report_default": {}
      }
     }
    }
   },
   "outputs": [],
   "source": [
    "# other = ny_bk_qn[(~ny_bk_qn['ZIPCODE'].isin(list(below_18_increase['ZIPCODE'].values)))&(~ny_bk_qn['ZIPCODE'].isin(list(_18_23_increase['ZIPCODE'].values)))&(~ny_bk_qn['ZIPCODE'].isin(list(over_23_increase['ZIPCODE'].values)))]"
   ]
  },
  {
   "cell_type": "code",
   "execution_count": 114,
   "metadata": {
    "extensions": {
     "jupyter_dashboards": {
      "version": 1,
      "views": {
       "grid_default": {
        "hidden": true
       },
       "report_default": {}
      }
     }
    }
   },
   "outputs": [],
   "source": [
    "ny_bk_qn.RegionName = ny_bk_qn.RegionName.astype('int')"
   ]
  },
  {
   "cell_type": "code",
   "execution_count": 117,
   "metadata": {
    "extensions": {
     "jupyter_dashboards": {
      "version": 1,
      "views": {
       "grid_default": {
        "hidden": true
       },
       "report_default": {}
      }
     }
    }
   },
   "outputs": [],
   "source": [
    "shape_fiona_for_plot = shape_fiona[['ZIPCODE', 'geometry']]\n",
    "shape_fiona_for_plot.columns =  ['RegionName', 'geometry']\n",
    "shape_fiona_for_plot.RegionName = shape_fiona_for_plot.RegionName.astype('int')"
   ]
  },
  {
   "cell_type": "code",
   "execution_count": 118,
   "metadata": {
    "extensions": {
     "jupyter_dashboards": {
      "version": 1,
      "views": {
       "grid_default": {
        "hidden": true
       },
       "report_default": {}
      }
     }
    }
   },
   "outputs": [],
   "source": [
    "ny_qn_bk_studio_df = shape_fiona_for_plot.merge(ny_rent_studio, how = 'left', on = ['RegionName'])"
   ]
  },
  {
   "cell_type": "code",
   "execution_count": 120,
   "metadata": {
    "extensions": {
     "jupyter_dashboards": {
      "version": 1,
      "views": {
       "grid_default": {
        "hidden": true
       },
       "report_default": {}
      }
     }
    }
   },
   "outputs": [],
   "source": [
    "district_zipcode = shape_fiona_for_plot.RegionName\n",
    "district_x = [ [list(shape_fiona_for_plot.geometry[i].exterior.coords)[j][0]\n",
    "              for j in range(0,len(list(shape_fiona_for_plot.geometry[i].exterior.coords)))]\n",
    "              for i in range(0,len(shape_fiona_for_plot))]\n",
    "district_y = [ [list(shape_fiona_for_plot.geometry[i].exterior.coords)[j][1]\n",
    "                for j in range(0,len(list(shape_fiona_for_plot.geometry[i].exterior.coords)))]\n",
    "              for i in range(0,len(shape_fiona_for_plot))]\n",
    "# district_xy = [ [ xy for xy in feat[\"geometry\"][\"coordinates\"][0]] for feat in shape] \n",
    "# district_poly = [Polygon(xy) for xy in district_xy]\n",
    "\n",
    "# rent_price = ny_qn_bk_studio_df['2011-11']"
   ]
  },
  {
   "cell_type": "code",
   "execution_count": null,
   "metadata": {
    "extensions": {
     "jupyter_dashboards": {
      "version": 1,
      "views": {
       "grid_default": {
        "hidden": true
       },
       "report_default": {}
      }
     }
    }
   },
   "outputs": [],
   "source": [
    "# district_zipcode = [feat['properties']['ZIPCODE'] for feat in shape]\n",
    "# district_x = [ [x[0] for x in feat[\"geometry\"][\"coordinates\"][0]] for feat in shape]\n",
    "# district_y = [ [y[1] for y in feat[\"geometry\"][\"coordinates\"][0]] for feat in shape]\n",
    "# district_xy = [ [ xy for xy in feat[\"geometry\"][\"coordinates\"][0]] for feat in shape] \n",
    "# district_poly = [Polygon(xy) for xy in district_xy]\n",
    "\n",
    "# rent_price = ny_qn_bk_studio_df['2011-11']"
   ]
  },
  {
   "cell_type": "code",
   "execution_count": 184,
   "metadata": {
    "extensions": {
     "jupyter_dashboards": {
      "version": 1,
      "views": {
       "grid_default": {
        "hidden": true
       },
       "report_default": {}
      }
     }
    }
   },
   "outputs": [],
   "source": [
    "year = ny_qn_bk_studio_df.columns[7:89]"
   ]
  },
  {
   "cell_type": "code",
   "execution_count": 171,
   "metadata": {
    "extensions": {
     "jupyter_dashboards": {
      "version": 1,
      "views": {
       "grid_default": {
        "hidden": true
       },
       "report_default": {}
      }
     }
    }
   },
   "outputs": [],
   "source": [
    "from bokeh.layouts import column, row, widgetbox\n",
    "from bokeh.models import CustomJS, Slider, Toggle\n",
    "from bokeh.models import ColumnDataSource, HoverTool, LogColorMapper, LogTicker, ColorBar\n",
    "from bokeh.io import push_notebook, output_notebook\n",
    "from ipywidgets import interact\n",
    "import ipywidgets as widgets"
   ]
  },
  {
   "cell_type": "code",
   "execution_count": 166,
   "metadata": {
    "extensions": {
     "jupyter_dashboards": {
      "version": 1,
      "views": {
       "grid_default": {
        "hidden": true
       },
       "report_default": {}
      }
     }
    }
   },
   "outputs": [],
   "source": [
    "rent_list = [ny_qn_bk_studio_df[year_] for year_ in year]\n",
    "rent_dict = dict(zip(year,rent_list))\n",
    "data = dict(x=district_x, y=district_y, name=district_zipcode,\n",
    "            rate=rent_list[0], **rent_dict)\n",
    "source = ColumnDataSource(data)"
   ]
  },
  {
   "cell_type": "code",
   "execution_count": 181,
   "metadata": {},
   "outputs": [],
   "source": [
    "# ny_qn_bk_studio_df.to_csv('ny_qn_bk_studio_df_bokeh.csv')\n",
    "# shape_fiona_for_plot.to_csv('shape_fiona_for_plot.csv')"
   ]
  },
  {
   "cell_type": "code",
   "execution_count": 174,
   "metadata": {
    "extensions": {
     "jupyter_dashboards": {
      "version": 1,
      "views": {
       "grid_default": {
        "col": 0,
        "height": 25,
        "hidden": false,
        "row": 30,
        "width": 8
       },
       "report_default": {}
      }
     }
    }
   },
   "outputs": [
    {
     "data": {
      "text/html": [
       "\n",
       "    <div class=\"bk-root\">\n",
       "        <a href=\"https://bokeh.pydata.org\" target=\"_blank\" class=\"bk-logo bk-logo-small bk-logo-notebook\"></a>\n",
       "        <span id=\"124b3879-a9ba-4b31-adde-3707a0a68068\">Loading BokehJS ...</span>\n",
       "    </div>"
      ]
     },
     "metadata": {},
     "output_type": "display_data"
    },
    {
     "data": {
      "application/javascript": [
       "\n",
       "(function(root) {\n",
       "  function now() {\n",
       "    return new Date();\n",
       "  }\n",
       "\n",
       "  var force = true;\n",
       "\n",
       "  if (typeof (root._bokeh_onload_callbacks) === \"undefined\" || force === true) {\n",
       "    root._bokeh_onload_callbacks = [];\n",
       "    root._bokeh_is_loading = undefined;\n",
       "  }\n",
       "\n",
       "  var JS_MIME_TYPE = 'application/javascript';\n",
       "  var HTML_MIME_TYPE = 'text/html';\n",
       "  var EXEC_MIME_TYPE = 'application/vnd.bokehjs_exec.v0+json';\n",
       "  var CLASS_NAME = 'output_bokeh rendered_html';\n",
       "\n",
       "  /**\n",
       "   * Render data to the DOM node\n",
       "   */\n",
       "  function render(props, node) {\n",
       "    var script = document.createElement(\"script\");\n",
       "    node.appendChild(script);\n",
       "  }\n",
       "\n",
       "  /**\n",
       "   * Handle when an output is cleared or removed\n",
       "   */\n",
       "  function handleClearOutput(event, handle) {\n",
       "    var cell = handle.cell;\n",
       "\n",
       "    var id = cell.output_area._bokeh_element_id;\n",
       "    var server_id = cell.output_area._bokeh_server_id;\n",
       "    // Clean up Bokeh references\n",
       "    if (id !== undefined) {\n",
       "      Bokeh.index[id].model.document.clear();\n",
       "      delete Bokeh.index[id];\n",
       "    }\n",
       "\n",
       "    if (server_id !== undefined) {\n",
       "      // Clean up Bokeh references\n",
       "      var cmd = \"from bokeh.io.state import curstate; print(curstate().uuid_to_server['\" + server_id + \"'].get_sessions()[0].document.roots[0]._id)\";\n",
       "      cell.notebook.kernel.execute(cmd, {\n",
       "        iopub: {\n",
       "          output: function(msg) {\n",
       "            var element_id = msg.content.text.trim();\n",
       "            Bokeh.index[element_id].model.document.clear();\n",
       "            delete Bokeh.index[element_id];\n",
       "          }\n",
       "        }\n",
       "      });\n",
       "      // Destroy server and session\n",
       "      var cmd = \"import bokeh.io.notebook as ion; ion.destroy_server('\" + server_id + \"')\";\n",
       "      cell.notebook.kernel.execute(cmd);\n",
       "    }\n",
       "  }\n",
       "\n",
       "  /**\n",
       "   * Handle when a new output is added\n",
       "   */\n",
       "  function handleAddOutput(event, handle) {\n",
       "    var output_area = handle.output_area;\n",
       "    var output = handle.output;\n",
       "\n",
       "    // limit handleAddOutput to display_data with EXEC_MIME_TYPE content only\n",
       "    if ((output.output_type != \"display_data\") || (!output.data.hasOwnProperty(EXEC_MIME_TYPE))) {\n",
       "      return\n",
       "    }\n",
       "\n",
       "    var toinsert = output_area.element.find(\".\" + CLASS_NAME.split(' ')[0]);\n",
       "\n",
       "    if (output.metadata[EXEC_MIME_TYPE][\"id\"] !== undefined) {\n",
       "      toinsert[toinsert.length - 1].firstChild.textContent = output.data[JS_MIME_TYPE];\n",
       "      // store reference to embed id on output_area\n",
       "      output_area._bokeh_element_id = output.metadata[EXEC_MIME_TYPE][\"id\"];\n",
       "    }\n",
       "    if (output.metadata[EXEC_MIME_TYPE][\"server_id\"] !== undefined) {\n",
       "      var bk_div = document.createElement(\"div\");\n",
       "      bk_div.innerHTML = output.data[HTML_MIME_TYPE];\n",
       "      var script_attrs = bk_div.children[0].attributes;\n",
       "      for (var i = 0; i < script_attrs.length; i++) {\n",
       "        toinsert[toinsert.length - 1].firstChild.setAttribute(script_attrs[i].name, script_attrs[i].value);\n",
       "      }\n",
       "      // store reference to server id on output_area\n",
       "      output_area._bokeh_server_id = output.metadata[EXEC_MIME_TYPE][\"server_id\"];\n",
       "    }\n",
       "  }\n",
       "\n",
       "  function register_renderer(events, OutputArea) {\n",
       "\n",
       "    function append_mime(data, metadata, element) {\n",
       "      // create a DOM node to render to\n",
       "      var toinsert = this.create_output_subarea(\n",
       "        metadata,\n",
       "        CLASS_NAME,\n",
       "        EXEC_MIME_TYPE\n",
       "      );\n",
       "      this.keyboard_manager.register_events(toinsert);\n",
       "      // Render to node\n",
       "      var props = {data: data, metadata: metadata[EXEC_MIME_TYPE]};\n",
       "      render(props, toinsert[toinsert.length - 1]);\n",
       "      element.append(toinsert);\n",
       "      return toinsert\n",
       "    }\n",
       "\n",
       "    /* Handle when an output is cleared or removed */\n",
       "    events.on('clear_output.CodeCell', handleClearOutput);\n",
       "    events.on('delete.Cell', handleClearOutput);\n",
       "\n",
       "    /* Handle when a new output is added */\n",
       "    events.on('output_added.OutputArea', handleAddOutput);\n",
       "\n",
       "    /**\n",
       "     * Register the mime type and append_mime function with output_area\n",
       "     */\n",
       "    OutputArea.prototype.register_mime_type(EXEC_MIME_TYPE, append_mime, {\n",
       "      /* Is output safe? */\n",
       "      safe: true,\n",
       "      /* Index of renderer in `output_area.display_order` */\n",
       "      index: 0\n",
       "    });\n",
       "  }\n",
       "\n",
       "  // register the mime type if in Jupyter Notebook environment and previously unregistered\n",
       "  if (root.Jupyter !== undefined) {\n",
       "    var events = require('base/js/events');\n",
       "    var OutputArea = require('notebook/js/outputarea').OutputArea;\n",
       "\n",
       "    if (OutputArea.prototype.mime_types().indexOf(EXEC_MIME_TYPE) == -1) {\n",
       "      register_renderer(events, OutputArea);\n",
       "    }\n",
       "  }\n",
       "\n",
       "  \n",
       "  if (typeof (root._bokeh_timeout) === \"undefined\" || force === true) {\n",
       "    root._bokeh_timeout = Date.now() + 5000;\n",
       "    root._bokeh_failed_load = false;\n",
       "  }\n",
       "\n",
       "  var NB_LOAD_WARNING = {'data': {'text/html':\n",
       "     \"<div style='background-color: #fdd'>\\n\"+\n",
       "     \"<p>\\n\"+\n",
       "     \"BokehJS does not appear to have successfully loaded. If loading BokehJS from CDN, this \\n\"+\n",
       "     \"may be due to a slow or bad network connection. Possible fixes:\\n\"+\n",
       "     \"</p>\\n\"+\n",
       "     \"<ul>\\n\"+\n",
       "     \"<li>re-rerun `output_notebook()` to attempt to load from CDN again, or</li>\\n\"+\n",
       "     \"<li>use INLINE resources instead, as so:</li>\\n\"+\n",
       "     \"</ul>\\n\"+\n",
       "     \"<code>\\n\"+\n",
       "     \"from bokeh.resources import INLINE\\n\"+\n",
       "     \"output_notebook(resources=INLINE)\\n\"+\n",
       "     \"</code>\\n\"+\n",
       "     \"</div>\"}};\n",
       "\n",
       "  function display_loaded() {\n",
       "    var el = document.getElementById(\"124b3879-a9ba-4b31-adde-3707a0a68068\");\n",
       "    if (el != null) {\n",
       "      el.textContent = \"BokehJS is loading...\";\n",
       "    }\n",
       "    if (root.Bokeh !== undefined) {\n",
       "      if (el != null) {\n",
       "        el.textContent = \"BokehJS \" + root.Bokeh.version + \" successfully loaded.\";\n",
       "      }\n",
       "    } else if (Date.now() < root._bokeh_timeout) {\n",
       "      setTimeout(display_loaded, 100)\n",
       "    }\n",
       "  }\n",
       "\n",
       "\n",
       "  function run_callbacks() {\n",
       "    try {\n",
       "      root._bokeh_onload_callbacks.forEach(function(callback) { callback() });\n",
       "    }\n",
       "    finally {\n",
       "      delete root._bokeh_onload_callbacks\n",
       "    }\n",
       "    console.info(\"Bokeh: all callbacks have finished\");\n",
       "  }\n",
       "\n",
       "  function load_libs(js_urls, callback) {\n",
       "    root._bokeh_onload_callbacks.push(callback);\n",
       "    if (root._bokeh_is_loading > 0) {\n",
       "      console.log(\"Bokeh: BokehJS is being loaded, scheduling callback at\", now());\n",
       "      return null;\n",
       "    }\n",
       "    if (js_urls == null || js_urls.length === 0) {\n",
       "      run_callbacks();\n",
       "      return null;\n",
       "    }\n",
       "    console.log(\"Bokeh: BokehJS not loaded, scheduling load and callback at\", now());\n",
       "    root._bokeh_is_loading = js_urls.length;\n",
       "    for (var i = 0; i < js_urls.length; i++) {\n",
       "      var url = js_urls[i];\n",
       "      var s = document.createElement('script');\n",
       "      s.src = url;\n",
       "      s.async = false;\n",
       "      s.onreadystatechange = s.onload = function() {\n",
       "        root._bokeh_is_loading--;\n",
       "        if (root._bokeh_is_loading === 0) {\n",
       "          console.log(\"Bokeh: all BokehJS libraries loaded\");\n",
       "          run_callbacks()\n",
       "        }\n",
       "      };\n",
       "      s.onerror = function() {\n",
       "        console.warn(\"failed to load library \" + url);\n",
       "      };\n",
       "      console.log(\"Bokeh: injecting script tag for BokehJS library: \", url);\n",
       "      document.getElementsByTagName(\"head\")[0].appendChild(s);\n",
       "    }\n",
       "  };var element = document.getElementById(\"124b3879-a9ba-4b31-adde-3707a0a68068\");\n",
       "  if (element == null) {\n",
       "    console.log(\"Bokeh: ERROR: autoload.js configured with elementid '124b3879-a9ba-4b31-adde-3707a0a68068' but no matching script tag was found. \")\n",
       "    return false;\n",
       "  }\n",
       "\n",
       "  var js_urls = [\"https://cdn.pydata.org/bokeh/release/bokeh-0.12.16.min.js\", \"https://cdn.pydata.org/bokeh/release/bokeh-widgets-0.12.16.min.js\", \"https://cdn.pydata.org/bokeh/release/bokeh-tables-0.12.16.min.js\", \"https://cdn.pydata.org/bokeh/release/bokeh-gl-0.12.16.min.js\"];\n",
       "\n",
       "  var inline_js = [\n",
       "    function(Bokeh) {\n",
       "      Bokeh.set_log_level(\"info\");\n",
       "    },\n",
       "    \n",
       "    function(Bokeh) {\n",
       "      \n",
       "    },\n",
       "    function(Bokeh) {\n",
       "      console.log(\"Bokeh: injecting CSS: https://cdn.pydata.org/bokeh/release/bokeh-0.12.16.min.css\");\n",
       "      Bokeh.embed.inject_css(\"https://cdn.pydata.org/bokeh/release/bokeh-0.12.16.min.css\");\n",
       "      console.log(\"Bokeh: injecting CSS: https://cdn.pydata.org/bokeh/release/bokeh-widgets-0.12.16.min.css\");\n",
       "      Bokeh.embed.inject_css(\"https://cdn.pydata.org/bokeh/release/bokeh-widgets-0.12.16.min.css\");\n",
       "      console.log(\"Bokeh: injecting CSS: https://cdn.pydata.org/bokeh/release/bokeh-tables-0.12.16.min.css\");\n",
       "      Bokeh.embed.inject_css(\"https://cdn.pydata.org/bokeh/release/bokeh-tables-0.12.16.min.css\");\n",
       "    }\n",
       "  ];\n",
       "\n",
       "  function run_inline_js() {\n",
       "    \n",
       "    if ((root.Bokeh !== undefined) || (force === true)) {\n",
       "      for (var i = 0; i < inline_js.length; i++) {\n",
       "        inline_js[i].call(root, root.Bokeh);\n",
       "      }if (force === true) {\n",
       "        display_loaded();\n",
       "      }} else if (Date.now() < root._bokeh_timeout) {\n",
       "      setTimeout(run_inline_js, 100);\n",
       "    } else if (!root._bokeh_failed_load) {\n",
       "      console.log(\"Bokeh: BokehJS failed to load within specified timeout.\");\n",
       "      root._bokeh_failed_load = true;\n",
       "    } else if (force !== true) {\n",
       "      var cell = $(document.getElementById(\"124b3879-a9ba-4b31-adde-3707a0a68068\")).parents('.cell').data().cell;\n",
       "      cell.output_area.append_execute_result(NB_LOAD_WARNING)\n",
       "    }\n",
       "\n",
       "  }\n",
       "\n",
       "  if (root._bokeh_is_loading === 0) {\n",
       "    console.log(\"Bokeh: BokehJS loaded, going straight to plotting\");\n",
       "    run_inline_js();\n",
       "  } else {\n",
       "    load_libs(js_urls, function() {\n",
       "      console.log(\"Bokeh: BokehJS plotting callback run at\", now());\n",
       "      run_inline_js();\n",
       "    });\n",
       "  }\n",
       "}(window));"
      ],
      "application/vnd.bokehjs_load.v0+json": "\n(function(root) {\n  function now() {\n    return new Date();\n  }\n\n  var force = true;\n\n  if (typeof (root._bokeh_onload_callbacks) === \"undefined\" || force === true) {\n    root._bokeh_onload_callbacks = [];\n    root._bokeh_is_loading = undefined;\n  }\n\n  \n\n  \n  if (typeof (root._bokeh_timeout) === \"undefined\" || force === true) {\n    root._bokeh_timeout = Date.now() + 5000;\n    root._bokeh_failed_load = false;\n  }\n\n  var NB_LOAD_WARNING = {'data': {'text/html':\n     \"<div style='background-color: #fdd'>\\n\"+\n     \"<p>\\n\"+\n     \"BokehJS does not appear to have successfully loaded. If loading BokehJS from CDN, this \\n\"+\n     \"may be due to a slow or bad network connection. Possible fixes:\\n\"+\n     \"</p>\\n\"+\n     \"<ul>\\n\"+\n     \"<li>re-rerun `output_notebook()` to attempt to load from CDN again, or</li>\\n\"+\n     \"<li>use INLINE resources instead, as so:</li>\\n\"+\n     \"</ul>\\n\"+\n     \"<code>\\n\"+\n     \"from bokeh.resources import INLINE\\n\"+\n     \"output_notebook(resources=INLINE)\\n\"+\n     \"</code>\\n\"+\n     \"</div>\"}};\n\n  function display_loaded() {\n    var el = document.getElementById(\"124b3879-a9ba-4b31-adde-3707a0a68068\");\n    if (el != null) {\n      el.textContent = \"BokehJS is loading...\";\n    }\n    if (root.Bokeh !== undefined) {\n      if (el != null) {\n        el.textContent = \"BokehJS \" + root.Bokeh.version + \" successfully loaded.\";\n      }\n    } else if (Date.now() < root._bokeh_timeout) {\n      setTimeout(display_loaded, 100)\n    }\n  }\n\n\n  function run_callbacks() {\n    try {\n      root._bokeh_onload_callbacks.forEach(function(callback) { callback() });\n    }\n    finally {\n      delete root._bokeh_onload_callbacks\n    }\n    console.info(\"Bokeh: all callbacks have finished\");\n  }\n\n  function load_libs(js_urls, callback) {\n    root._bokeh_onload_callbacks.push(callback);\n    if (root._bokeh_is_loading > 0) {\n      console.log(\"Bokeh: BokehJS is being loaded, scheduling callback at\", now());\n      return null;\n    }\n    if (js_urls == null || js_urls.length === 0) {\n      run_callbacks();\n      return null;\n    }\n    console.log(\"Bokeh: BokehJS not loaded, scheduling load and callback at\", now());\n    root._bokeh_is_loading = js_urls.length;\n    for (var i = 0; i < js_urls.length; i++) {\n      var url = js_urls[i];\n      var s = document.createElement('script');\n      s.src = url;\n      s.async = false;\n      s.onreadystatechange = s.onload = function() {\n        root._bokeh_is_loading--;\n        if (root._bokeh_is_loading === 0) {\n          console.log(\"Bokeh: all BokehJS libraries loaded\");\n          run_callbacks()\n        }\n      };\n      s.onerror = function() {\n        console.warn(\"failed to load library \" + url);\n      };\n      console.log(\"Bokeh: injecting script tag for BokehJS library: \", url);\n      document.getElementsByTagName(\"head\")[0].appendChild(s);\n    }\n  };var element = document.getElementById(\"124b3879-a9ba-4b31-adde-3707a0a68068\");\n  if (element == null) {\n    console.log(\"Bokeh: ERROR: autoload.js configured with elementid '124b3879-a9ba-4b31-adde-3707a0a68068' but no matching script tag was found. \")\n    return false;\n  }\n\n  var js_urls = [\"https://cdn.pydata.org/bokeh/release/bokeh-0.12.16.min.js\", \"https://cdn.pydata.org/bokeh/release/bokeh-widgets-0.12.16.min.js\", \"https://cdn.pydata.org/bokeh/release/bokeh-tables-0.12.16.min.js\", \"https://cdn.pydata.org/bokeh/release/bokeh-gl-0.12.16.min.js\"];\n\n  var inline_js = [\n    function(Bokeh) {\n      Bokeh.set_log_level(\"info\");\n    },\n    \n    function(Bokeh) {\n      \n    },\n    function(Bokeh) {\n      console.log(\"Bokeh: injecting CSS: https://cdn.pydata.org/bokeh/release/bokeh-0.12.16.min.css\");\n      Bokeh.embed.inject_css(\"https://cdn.pydata.org/bokeh/release/bokeh-0.12.16.min.css\");\n      console.log(\"Bokeh: injecting CSS: https://cdn.pydata.org/bokeh/release/bokeh-widgets-0.12.16.min.css\");\n      Bokeh.embed.inject_css(\"https://cdn.pydata.org/bokeh/release/bokeh-widgets-0.12.16.min.css\");\n      console.log(\"Bokeh: injecting CSS: https://cdn.pydata.org/bokeh/release/bokeh-tables-0.12.16.min.css\");\n      Bokeh.embed.inject_css(\"https://cdn.pydata.org/bokeh/release/bokeh-tables-0.12.16.min.css\");\n    }\n  ];\n\n  function run_inline_js() {\n    \n    if ((root.Bokeh !== undefined) || (force === true)) {\n      for (var i = 0; i < inline_js.length; i++) {\n        inline_js[i].call(root, root.Bokeh);\n      }if (force === true) {\n        display_loaded();\n      }} else if (Date.now() < root._bokeh_timeout) {\n      setTimeout(run_inline_js, 100);\n    } else if (!root._bokeh_failed_load) {\n      console.log(\"Bokeh: BokehJS failed to load within specified timeout.\");\n      root._bokeh_failed_load = true;\n    } else if (force !== true) {\n      var cell = $(document.getElementById(\"124b3879-a9ba-4b31-adde-3707a0a68068\")).parents('.cell').data().cell;\n      cell.output_area.append_execute_result(NB_LOAD_WARNING)\n    }\n\n  }\n\n  if (root._bokeh_is_loading === 0) {\n    console.log(\"Bokeh: BokehJS loaded, going straight to plotting\");\n    run_inline_js();\n  } else {\n    load_libs(js_urls, function() {\n      console.log(\"Bokeh: BokehJS plotting callback run at\", now());\n      run_inline_js();\n    });\n  }\n}(window));"
     },
     "metadata": {},
     "output_type": "display_data"
    },
    {
     "data": {
      "application/vnd.jupyter.widget-view+json": {
       "model_id": "f988ae7715114835830e1fa57c0f182d",
       "version_major": 2,
       "version_minor": 0
      },
      "text/plain": [
       "interactive(children=(SelectionSlider(continuous_update=False, description='w', options=('2011-11', '2011-12',…"
      ]
     },
     "metadata": {},
     "output_type": "display_data"
    },
    {
     "data": {
      "text/plain": [
       "<function __main__.update(w)>"
      ]
     },
     "execution_count": 174,
     "metadata": {},
     "output_type": "execute_result"
    }
   ],
   "source": [
    "output_notebook()\n",
    "\n",
    "custom_colors = ['#f2f2f2', '#fee5d9', '#fcbba1', '#fc9272', '#fb6a4a', '#de2d26']\n",
    "color_mapper = LogColorMapper(palette=custom_colors)  \n",
    "\n",
    "TOOLS = \"pan,wheel_zoom,reset,hover,save\"\n",
    "p = figure(\n",
    "    title=\"Rental Prices\", tools=TOOLS,\n",
    "    x_axis_location=None, y_axis_location=None\n",
    ")\n",
    "p.grid.grid_line_color = None\n",
    "p.patches('x', 'y', source=source,\n",
    "          fill_color={'field': 'rate', 'transform': color_mapper},\n",
    "          fill_alpha=0.8, line_color=\"black\", line_width=0.3)\n",
    "\n",
    "color_bar = ColorBar(color_mapper=color_mapper, ticker=LogTicker(),\n",
    "                     label_standoff=12, border_line_color=None, location=(0,0))\n",
    "\n",
    "p.add_layout(color_bar, 'right')\n",
    "\n",
    "hover = p.select_one(HoverTool)\n",
    "hover.point_policy = \"follow_mouse\"\n",
    "hover.tooltips = [(\"zipcode\", \"@name\"),(\"rent ($)\", \"@rate\"),(\"(Long, Lat)\", \"($x, $y)\")]\n",
    "# show(p, notebook_handle = True)\n",
    "\n",
    "w = widgets.SelectionSlider(options=year,value=year[0],disabled=False,continuous_update=False,\n",
    "                                               orientation='horizontal',readout=True)\n",
    "def update(w):\n",
    "    source.data['rate'] = source.data[w]\n",
    "    show(p, notebook_handle=True)\n",
    "    push_notebook()\n",
    "    \n",
    "interact(update, w = w)"
   ]
  },
  {
   "cell_type": "code",
   "execution_count": 177,
   "metadata": {
    "extensions": {
     "jupyter_dashboards": {
      "version": 1,
      "views": {
       "grid_default": {
        "hidden": true
       },
       "report_default": {}
      }
     }
    }
   },
   "outputs": [],
   "source": [
    "sorted_rent_increase = ny_rent_studio.sort_values(['%_increase'], ascending = False)"
   ]
  },
  {
   "cell_type": "code",
   "execution_count": 178,
   "metadata": {
    "extensions": {
     "jupyter_dashboards": {
      "version": 1,
      "views": {
       "grid_default": {
        "hidden": true
       },
       "report_default": {}
      }
     }
    }
   },
   "outputs": [],
   "source": [
    "# sorted_rent_increase = sorted_rent_increase.reset_index()\n",
    "# sorted_rent_increase = sorted_rent_increase.drop(['level_0', 'index'], axis = 1)\n",
    "sorted_rent_increase_top_10 = sorted_rent_increase.loc[:10]"
   ]
  },
  {
   "cell_type": "code",
   "execution_count": 179,
   "metadata": {
    "extensions": {
     "jupyter_dashboards": {
      "version": 1,
      "views": {
       "grid_default": {
        "col": 0,
        "height": 23,
        "hidden": false,
        "row": 55,
        "width": 8
       },
       "report_default": {}
      }
     }
    }
   },
   "outputs": [
    {
     "data": {
      "text/html": [
       "<div>\n",
       "<style scoped>\n",
       "    .dataframe tbody tr th:only-of-type {\n",
       "        vertical-align: middle;\n",
       "    }\n",
       "\n",
       "    .dataframe tbody tr th {\n",
       "        vertical-align: top;\n",
       "    }\n",
       "\n",
       "    .dataframe thead th {\n",
       "        text-align: right;\n",
       "    }\n",
       "</style>\n",
       "<table border=\"1\" class=\"dataframe\">\n",
       "  <thead>\n",
       "    <tr style=\"text-align: right;\">\n",
       "      <th></th>\n",
       "      <th>RegionName</th>\n",
       "      <th>City</th>\n",
       "      <th>State</th>\n",
       "      <th>Metro</th>\n",
       "      <th>CountyName</th>\n",
       "      <th>2018-08</th>\n",
       "      <th>%_increase</th>\n",
       "      <th>neighborhood</th>\n",
       "    </tr>\n",
       "  </thead>\n",
       "  <tbody>\n",
       "    <tr>\n",
       "      <th>0</th>\n",
       "      <td>11355</td>\n",
       "      <td>New York</td>\n",
       "      <td>NY</td>\n",
       "      <td>New York, NY</td>\n",
       "      <td>Queens</td>\n",
       "      <td>1900.0</td>\n",
       "      <td>51.636073</td>\n",
       "      <td>Flushing</td>\n",
       "    </tr>\n",
       "    <tr>\n",
       "      <th>1</th>\n",
       "      <td>11375</td>\n",
       "      <td>New York</td>\n",
       "      <td>NY</td>\n",
       "      <td>New York, NY</td>\n",
       "      <td>Queens</td>\n",
       "      <td>1925.0</td>\n",
       "      <td>45.283019</td>\n",
       "      <td>Forest Hills</td>\n",
       "    </tr>\n",
       "    <tr>\n",
       "      <th>2</th>\n",
       "      <td>11221</td>\n",
       "      <td>New York</td>\n",
       "      <td>NY</td>\n",
       "      <td>New York, NY</td>\n",
       "      <td>Kings</td>\n",
       "      <td>2000.0</td>\n",
       "      <td>39.372822</td>\n",
       "      <td>Bushwick</td>\n",
       "    </tr>\n",
       "    <tr>\n",
       "      <th>3</th>\n",
       "      <td>11374</td>\n",
       "      <td>New York</td>\n",
       "      <td>NY</td>\n",
       "      <td>New York, NY</td>\n",
       "      <td>Queens</td>\n",
       "      <td>1750.0</td>\n",
       "      <td>37.254902</td>\n",
       "      <td>Rego Park</td>\n",
       "    </tr>\n",
       "    <tr>\n",
       "      <th>4</th>\n",
       "      <td>11373</td>\n",
       "      <td>New York</td>\n",
       "      <td>NY</td>\n",
       "      <td>New York, NY</td>\n",
       "      <td>Queens</td>\n",
       "      <td>1600.0</td>\n",
       "      <td>33.891213</td>\n",
       "      <td>Elmhurst</td>\n",
       "    </tr>\n",
       "    <tr>\n",
       "      <th>5</th>\n",
       "      <td>10022</td>\n",
       "      <td>New York</td>\n",
       "      <td>NY</td>\n",
       "      <td>New York, NY</td>\n",
       "      <td>New York</td>\n",
       "      <td>2750.0</td>\n",
       "      <td>30.952381</td>\n",
       "      <td>Midtown East</td>\n",
       "    </tr>\n",
       "    <tr>\n",
       "      <th>6</th>\n",
       "      <td>10025</td>\n",
       "      <td>New York</td>\n",
       "      <td>NY</td>\n",
       "      <td>New York, NY</td>\n",
       "      <td>New York</td>\n",
       "      <td>2450.0</td>\n",
       "      <td>28.947368</td>\n",
       "      <td>Upper West Side</td>\n",
       "    </tr>\n",
       "    <tr>\n",
       "      <th>7</th>\n",
       "      <td>10014</td>\n",
       "      <td>New York</td>\n",
       "      <td>NY</td>\n",
       "      <td>New York, NY</td>\n",
       "      <td>New York</td>\n",
       "      <td>3210.0</td>\n",
       "      <td>28.400000</td>\n",
       "      <td>Meatpacking</td>\n",
       "    </tr>\n",
       "    <tr>\n",
       "      <th>8</th>\n",
       "      <td>10280</td>\n",
       "      <td>New York</td>\n",
       "      <td>NY</td>\n",
       "      <td>New York, NY</td>\n",
       "      <td>New York</td>\n",
       "      <td>3500.0</td>\n",
       "      <td>27.272727</td>\n",
       "      <td>Battery Park</td>\n",
       "    </tr>\n",
       "    <tr>\n",
       "      <th>9</th>\n",
       "      <td>10038</td>\n",
       "      <td>New York</td>\n",
       "      <td>NY</td>\n",
       "      <td>New York, NY</td>\n",
       "      <td>New York</td>\n",
       "      <td>3125.0</td>\n",
       "      <td>24.180409</td>\n",
       "      <td>City Hall</td>\n",
       "    </tr>\n",
       "    <tr>\n",
       "      <th>10</th>\n",
       "      <td>11211</td>\n",
       "      <td>New York</td>\n",
       "      <td>NY</td>\n",
       "      <td>New York, NY</td>\n",
       "      <td>Kings</td>\n",
       "      <td>2790.0</td>\n",
       "      <td>24.000000</td>\n",
       "      <td>Williamsburg</td>\n",
       "    </tr>\n",
       "  </tbody>\n",
       "</table>\n",
       "</div>"
      ],
      "text/plain": [
       "    RegionName      City State         Metro CountyName  2018-08  %_increase  \\\n",
       "0        11355  New York    NY  New York, NY     Queens   1900.0   51.636073   \n",
       "1        11375  New York    NY  New York, NY     Queens   1925.0   45.283019   \n",
       "2        11221  New York    NY  New York, NY      Kings   2000.0   39.372822   \n",
       "3        11374  New York    NY  New York, NY     Queens   1750.0   37.254902   \n",
       "4        11373  New York    NY  New York, NY     Queens   1600.0   33.891213   \n",
       "5        10022  New York    NY  New York, NY   New York   2750.0   30.952381   \n",
       "6        10025  New York    NY  New York, NY   New York   2450.0   28.947368   \n",
       "7        10014  New York    NY  New York, NY   New York   3210.0   28.400000   \n",
       "8        10280  New York    NY  New York, NY   New York   3500.0   27.272727   \n",
       "9        10038  New York    NY  New York, NY   New York   3125.0   24.180409   \n",
       "10       11211  New York    NY  New York, NY      Kings   2790.0   24.000000   \n",
       "\n",
       "       neighborhood  \n",
       "0          Flushing  \n",
       "1      Forest Hills  \n",
       "2          Bushwick  \n",
       "3         Rego Park  \n",
       "4          Elmhurst  \n",
       "5      Midtown East  \n",
       "6   Upper West Side  \n",
       "7       Meatpacking  \n",
       "8      Battery Park  \n",
       "9         City Hall  \n",
       "10     Williamsburg  "
      ]
     },
     "execution_count": 179,
     "metadata": {},
     "output_type": "execute_result"
    }
   ],
   "source": [
    "sorted_rent_increase_top_10 = sorted_rent_increase.loc[:10]\n",
    "region_name_top_10 = sorted_rent_increase_top_10.loc[:,'RegionName':'CountyName']\n",
    "increase_top_10 = sorted_rent_increase_top_10.loc[:,'2018-08':'%_increase']\n",
    "sorted_rent_top_10 = pd.concat([region_name_top_10, increase_top_10], axis = 1)\n",
    "sorted_rent_top_10 = sorted_rent_top_10.reset_index(drop = True)\n",
    "sorted_rent_top_10 = sorted_rent_top_10.loc[:10]\n",
    "sorted_rent_top_10['neighborhood'] = ['Flushing', 'Forest Hills', 'Bushwick', 'Rego Park', 'Elmhurst','Midtown East', 'Upper West Side', 'Meatpacking', 'Battery Park', 'City Hall', 'Williamsburg']\n",
    "sorted_rent_top_10"
   ]
  },
  {
   "cell_type": "code",
   "execution_count": 185,
   "metadata": {
    "extensions": {
     "jupyter_dashboards": {
      "version": 1,
      "views": {
       "grid_default": {
        "hidden": true
       },
       "report_default": {}
      }
     }
    }
   },
   "outputs": [],
   "source": [
    "sorted_rent_increase_asc = ny_rent_studio.sort_values(['%_increase'], ascending = True)\n",
    "sorted_rent_increase_asc = sorted_rent_increase_asc.reset_index(drop = True)\n",
    "sorted_rent_increase_asc_top_10 = sorted_rent_increase_asc.loc[:10]\n",
    "region_name_bottom_10 = sorted_rent_increase_asc_top_10.loc[:,'RegionName':'CountyName']\n",
    "increase_bottom_10 = sorted_rent_increase_asc_top_10.loc[:,'2018-08':'%_increase']\n",
    "sorted_rent_bottom_10 = pd.concat([region_name_bottom_10, increase_bottom_10], axis = 1)\n",
    "sorted_rent_bottom_10['neighborhood'] = ['Midtown West', 'Upper East Side', 'East Harlem', 'East Village', 'Yorkville','Lenox Hill', 'Yorkville', 'Upper West Side', 'Murray Hill','Upper West Side','Yorkville'  ]\n",
    "sorted_rent_bottom_10"
   ]
  },
  {
   "cell_type": "code",
   "execution_count": 186,
   "metadata": {
    "extensions": {
     "jupyter_dashboards": {
      "version": 1,
      "views": {
       "grid_default": {
        "hidden": true
       },
       "report_default": {}
      }
     }
    }
   },
   "outputs": [
    {
     "data": {
      "text/html": [
       "<div>\n",
       "<style scoped>\n",
       "    .dataframe tbody tr th:only-of-type {\n",
       "        vertical-align: middle;\n",
       "    }\n",
       "\n",
       "    .dataframe tbody tr th {\n",
       "        vertical-align: top;\n",
       "    }\n",
       "\n",
       "    .dataframe thead th {\n",
       "        text-align: right;\n",
       "    }\n",
       "</style>\n",
       "<table border=\"1\" class=\"dataframe\">\n",
       "  <thead>\n",
       "    <tr style=\"text-align: right;\">\n",
       "      <th></th>\n",
       "      <th>RegionName</th>\n",
       "      <th>City</th>\n",
       "      <th>State</th>\n",
       "      <th>Metro</th>\n",
       "      <th>CountyName</th>\n",
       "      <th>2018-08</th>\n",
       "      <th>%_increase</th>\n",
       "      <th>neighborhood</th>\n",
       "    </tr>\n",
       "  </thead>\n",
       "  <tbody>\n",
       "    <tr>\n",
       "      <th>0</th>\n",
       "      <td>10036</td>\n",
       "      <td>New York</td>\n",
       "      <td>NY</td>\n",
       "      <td>New York, NY</td>\n",
       "      <td>New York</td>\n",
       "      <td>2800.0</td>\n",
       "      <td>3.703704</td>\n",
       "      <td>Midtown West</td>\n",
       "    </tr>\n",
       "    <tr>\n",
       "      <th>1</th>\n",
       "      <td>10065</td>\n",
       "      <td>New York</td>\n",
       "      <td>NY</td>\n",
       "      <td>New York, NY</td>\n",
       "      <td>New York</td>\n",
       "      <td>2625.0</td>\n",
       "      <td>5.210421</td>\n",
       "      <td>Upper East Side</td>\n",
       "    </tr>\n",
       "    <tr>\n",
       "      <th>2</th>\n",
       "      <td>10035</td>\n",
       "      <td>New York</td>\n",
       "      <td>NY</td>\n",
       "      <td>New York, NY</td>\n",
       "      <td>New York</td>\n",
       "      <td>1885.0</td>\n",
       "      <td>5.484051</td>\n",
       "      <td>East Harlem</td>\n",
       "    </tr>\n",
       "    <tr>\n",
       "      <th>3</th>\n",
       "      <td>10003</td>\n",
       "      <td>New York</td>\n",
       "      <td>NY</td>\n",
       "      <td>New York, NY</td>\n",
       "      <td>New York</td>\n",
       "      <td>2695.0</td>\n",
       "      <td>8.016032</td>\n",
       "      <td>East Village</td>\n",
       "    </tr>\n",
       "    <tr>\n",
       "      <th>4</th>\n",
       "      <td>10128</td>\n",
       "      <td>New York</td>\n",
       "      <td>NY</td>\n",
       "      <td>New York, NY</td>\n",
       "      <td>New York</td>\n",
       "      <td>2137.5</td>\n",
       "      <td>9.615385</td>\n",
       "      <td>Yorkville</td>\n",
       "    </tr>\n",
       "    <tr>\n",
       "      <th>5</th>\n",
       "      <td>10021</td>\n",
       "      <td>New York</td>\n",
       "      <td>NY</td>\n",
       "      <td>New York, NY</td>\n",
       "      <td>New York</td>\n",
       "      <td>2100.0</td>\n",
       "      <td>10.526316</td>\n",
       "      <td>Lenox Hill</td>\n",
       "    </tr>\n",
       "    <tr>\n",
       "      <th>6</th>\n",
       "      <td>10028</td>\n",
       "      <td>New York</td>\n",
       "      <td>NY</td>\n",
       "      <td>New York, NY</td>\n",
       "      <td>New York</td>\n",
       "      <td>2100.0</td>\n",
       "      <td>10.817942</td>\n",
       "      <td>Yorkville</td>\n",
       "    </tr>\n",
       "    <tr>\n",
       "      <th>7</th>\n",
       "      <td>10069</td>\n",
       "      <td>New York</td>\n",
       "      <td>NY</td>\n",
       "      <td>New York, NY</td>\n",
       "      <td>New York</td>\n",
       "      <td>3400.0</td>\n",
       "      <td>11.475410</td>\n",
       "      <td>Upper West Side</td>\n",
       "    </tr>\n",
       "    <tr>\n",
       "      <th>8</th>\n",
       "      <td>10017</td>\n",
       "      <td>New York</td>\n",
       "      <td>NY</td>\n",
       "      <td>New York, NY</td>\n",
       "      <td>New York</td>\n",
       "      <td>2600.0</td>\n",
       "      <td>13.043478</td>\n",
       "      <td>Murray Hill</td>\n",
       "    </tr>\n",
       "    <tr>\n",
       "      <th>9</th>\n",
       "      <td>10024</td>\n",
       "      <td>New York</td>\n",
       "      <td>NY</td>\n",
       "      <td>New York, NY</td>\n",
       "      <td>New York</td>\n",
       "      <td>2397.5</td>\n",
       "      <td>14.439141</td>\n",
       "      <td>Upper West Side</td>\n",
       "    </tr>\n",
       "    <tr>\n",
       "      <th>10</th>\n",
       "      <td>10075</td>\n",
       "      <td>New York</td>\n",
       "      <td>NY</td>\n",
       "      <td>New York, NY</td>\n",
       "      <td>New York</td>\n",
       "      <td>2050.0</td>\n",
       "      <td>15.492958</td>\n",
       "      <td>Yorkville</td>\n",
       "    </tr>\n",
       "  </tbody>\n",
       "</table>\n",
       "</div>"
      ],
      "text/plain": [
       "    RegionName      City State         Metro CountyName  2018-08  %_increase  \\\n",
       "0        10036  New York    NY  New York, NY   New York   2800.0    3.703704   \n",
       "1        10065  New York    NY  New York, NY   New York   2625.0    5.210421   \n",
       "2        10035  New York    NY  New York, NY   New York   1885.0    5.484051   \n",
       "3        10003  New York    NY  New York, NY   New York   2695.0    8.016032   \n",
       "4        10128  New York    NY  New York, NY   New York   2137.5    9.615385   \n",
       "5        10021  New York    NY  New York, NY   New York   2100.0   10.526316   \n",
       "6        10028  New York    NY  New York, NY   New York   2100.0   10.817942   \n",
       "7        10069  New York    NY  New York, NY   New York   3400.0   11.475410   \n",
       "8        10017  New York    NY  New York, NY   New York   2600.0   13.043478   \n",
       "9        10024  New York    NY  New York, NY   New York   2397.5   14.439141   \n",
       "10       10075  New York    NY  New York, NY   New York   2050.0   15.492958   \n",
       "\n",
       "       neighborhood  \n",
       "0      Midtown West  \n",
       "1   Upper East Side  \n",
       "2       East Harlem  \n",
       "3      East Village  \n",
       "4         Yorkville  \n",
       "5        Lenox Hill  \n",
       "6         Yorkville  \n",
       "7   Upper West Side  \n",
       "8       Murray Hill  \n",
       "9   Upper West Side  \n",
       "10        Yorkville  "
      ]
     },
     "execution_count": 186,
     "metadata": {},
     "output_type": "execute_result"
    }
   ],
   "source": [
    "sorted_rent_bottom_10"
   ]
  },
  {
   "cell_type": "code",
   "execution_count": 191,
   "metadata": {
    "extensions": {
     "jupyter_dashboards": {
      "version": 1,
      "views": {
       "grid_default": {
        "hidden": true
       },
       "report_default": {}
      }
     }
    }
   },
   "outputs": [],
   "source": [
    "# zip_code_list['zipcodes'] = zip_code_list['zipcodes'].apply(lambda x: ast.literal_eval(x)) "
   ]
  },
  {
   "cell_type": "code",
   "execution_count": 192,
   "metadata": {
    "extensions": {
     "jupyter_dashboards": {
      "version": 1,
      "views": {
       "grid_default": {
        "hidden": true
       },
       "report_default": {}
      }
     }
    }
   },
   "outputs": [],
   "source": [
    "williamsburg_zip_ = zip_code_list[zip_code_list['neighborhood'] == 'Williamsburg']\n",
    "williamsburg_zip = williamsburg_zip_['zipcodes'].values[0]"
   ]
  },
  {
   "cell_type": "code",
   "execution_count": 193,
   "metadata": {
    "extensions": {
     "jupyter_dashboards": {
      "version": 1,
      "views": {
       "grid_default": {
        "hidden": true
       },
       "report_default": {}
      }
     }
    }
   },
   "outputs": [],
   "source": [
    "def get_rent_for_neighborhood(zip_list):\n",
    "    df = pd.DataFrame(columns = list(rent_studio.columns) )\n",
    "    for zip_ in zip_list:\n",
    "        rent = rent_studio[rent_studio['RegionName'] == int(zip_)]\n",
    "        df= pd.concat([df,rent])\n",
    "    return df"
   ]
  },
  {
   "cell_type": "code",
   "execution_count": 194,
   "metadata": {
    "extensions": {
     "jupyter_dashboards": {
      "version": 1,
      "views": {
       "grid_default": {
        "hidden": true
       },
       "report_default": {}
      }
     }
    }
   },
   "outputs": [],
   "source": [
    "# williamsburg\n",
    "williamsburg_zip_ = zip_code_list[zip_code_list['neighborhood'] == 'Williamsburg']\n",
    "williamsburg_zip = williamsburg_zip_['zipcodes'].values[0]\n",
    "williamsburg_rent = get_rent_for_neighborhood(williamsburg_zip)\n",
    "\n",
    "#bushwick\n",
    "bushwick_zip_ = zip_code_list[zip_code_list['neighborhood'] == 'Bushwick']\n",
    "bushwick_zip = bushwick_zip_['zipcodes'].values[0]\n",
    "bushwick_rent = get_rent_for_neighborhood(bushwick_zip)\n",
    "\n",
    "#east harlem\n",
    "east_harlem_zip_ = zip_code_list[zip_code_list['neighborhood'] == 'East Harlem']\n",
    "east_harlem_zip = east_harlem_zip_['zipcodes'].values[0]\n",
    "east_harlem_rent = get_rent_for_neighborhood(east_harlem_zip)\n",
    "\n",
    "# chelsea and clinton\n",
    "chelsea_clinton_zip_ = zip_code_list[zip_code_list['neighborhood'] == 'Chelsea and Clinton']\n",
    "chelsea_clinton_zip = chelsea_clinton_zip_['zipcodes'].values[0]\n",
    "chelsea_clinton_rent = get_rent_for_neighborhood(chelsea_clinton_zip)"
   ]
  },
  {
   "cell_type": "code",
   "execution_count": 195,
   "metadata": {
    "extensions": {
     "jupyter_dashboards": {
      "version": 1,
      "views": {
       "grid_default": {
        "hidden": true
       },
       "report_default": {}
      }
     }
    }
   },
   "outputs": [],
   "source": [
    "# chelsea and clinton\n",
    "chelsea_clinton_zip_ = zip_code_list[zip_code_list['neighborhood'] == 'Chelsea and Clinton']\n",
    "chelsea_clinton_zip = chelsea_clinton_zip_['zipcodes'].values[0]\n",
    "chelsea_clinton_rent = get_rent_for_neighborhood(chelsea_clinton_zip)"
   ]
  },
  {
   "cell_type": "code",
   "execution_count": 196,
   "metadata": {
    "extensions": {
     "jupyter_dashboards": {
      "version": 1,
      "views": {
       "grid_default": {
        "hidden": true
       },
       "report_default": {}
      }
     }
    }
   },
   "outputs": [],
   "source": [
    "# williamsburg\n",
    "rent_studio_williamsburg = williamsburg_rent.reset_index()\n",
    "rent_studio_williamsburg = rent_studio_williamsburg.transpose()\n",
    "rent_studio_williamsburg = rent_studio_williamsburg.dropna()\n",
    "rent_studio_williamsburg = rent_studio_williamsburg.iloc[7:,:]\n",
    "rent_studio_williamsburg.index = pd.to_datetime(rent_studio_williamsburg.index)\n",
    "rent_studio_williamsburg.columns= ['rent']\n",
    "\n",
    "# bushwick\n",
    "rent_studio_bushwick = bushwick_rent.reset_index()\n",
    "rent_studio_bushwick = rent_studio_bushwick.transpose()\n",
    "rent_studio_bushwick = rent_studio_bushwick.dropna()\n",
    "rent_studio_bushwick = rent_studio_bushwick.iloc[12:,:]\n",
    "rent_studio_bushwick.index = pd.to_datetime(rent_studio_bushwick.index)\n",
    "rent_studio_bushwick.columns= ['rent']\n",
    "\n",
    "# east harlem\n",
    "east_harlem_rent_ = east_harlem_rent.describe().mean()\n",
    "east_harlem_rent = pd.DataFrame(east_harlem_rent_)\n",
    "\n",
    "east_harlem_rent = east_harlem_rent.dropna()\n",
    "rent_studio_east_harlem = east_harlem_rent.iloc[11:,:]\n",
    "rent_studio_east_harlem.index = pd.to_datetime(rent_studio_east_harlem.index)\n",
    "rent_studio_east_harlem.columns= ['rent']\n",
    "rent_studio_east_harlem = rent_studio_east_harlem.iloc[9:,:]"
   ]
  },
  {
   "cell_type": "code",
   "execution_count": 197,
   "metadata": {
    "extensions": {
     "jupyter_dashboards": {
      "version": 1,
      "views": {
       "grid_default": {
        "hidden": true
       },
       "report_default": {}
      }
     }
    }
   },
   "outputs": [],
   "source": [
    "rent_studio_chelsea_clinton = chelsea_clinton_rent.reset_index()\n",
    "rent_studio_chelsea_clinton = rent_studio_chelsea_clinton.transpose()"
   ]
  },
  {
   "cell_type": "code",
   "execution_count": 198,
   "metadata": {
    "extensions": {
     "jupyter_dashboards": {
      "version": 1,
      "views": {
       "grid_default": {
        "hidden": true
       },
       "report_default": {}
      }
     }
    }
   },
   "outputs": [],
   "source": [
    "rent_studio_chelsea_clinton = rent_studio_chelsea_clinton.iloc[27:, :]"
   ]
  },
  {
   "cell_type": "code",
   "execution_count": 199,
   "metadata": {
    "extensions": {
     "jupyter_dashboards": {
      "version": 1,
      "views": {
       "grid_default": {
        "hidden": true
       },
       "report_default": {}
      }
     }
    }
   },
   "outputs": [],
   "source": [
    "rent_studio_chelsea_clinton = rent_studio_chelsea_clinton.mean(axis = 1)"
   ]
  },
  {
   "cell_type": "code",
   "execution_count": 200,
   "metadata": {
    "extensions": {
     "jupyter_dashboards": {
      "version": 1,
      "views": {
       "grid_default": {
        "hidden": true
       },
       "report_default": {}
      }
     }
    }
   },
   "outputs": [],
   "source": [
    "# rent_studio_chelsea_clinton = chelsea_clinton_rent.reset_index()\n",
    "# rent_studio_chelsea_clinton = rent_studio_chelsea_clinton.transpose()\n",
    "# rent_studio_chelsea_clinton = rent_studio_chelsea_clinton.dropna()\n",
    "# rent_studio_chelsea_clinton = rent_studio_chelsea_clinton.iloc[12:,:]\n",
    "rent_studio_chelsea_clinton = pd.DataFrame(rent_studio_chelsea_clinton)\n",
    "rent_studio_chelsea_clinton.index = pd.to_datetime(rent_studio_chelsea_clinton.index)\n",
    "rent_studio_chelsea_clinton.columns= ['rent']"
   ]
  },
  {
   "cell_type": "code",
   "execution_count": 201,
   "metadata": {
    "extensions": {
     "jupyter_dashboards": {
      "version": 1,
      "views": {
       "grid_default": {
        "hidden": true
       },
       "report_default": {}
      }
     }
    }
   },
   "outputs": [
    {
     "data": {
      "text/plain": [
       "<matplotlib.axes._subplots.AxesSubplot at 0x1c177a9588>"
      ]
     },
     "execution_count": 201,
     "metadata": {},
     "output_type": "execute_result"
    },
    {
     "data": {
      "image/png": "[encoded data removed]",
      "text/plain": [
       "<Figure size 432x288 with 1 Axes>"
      ]
     },
     "metadata": {},
     "output_type": "display_data"
    }
   ],
   "source": [
    "rent_studio_chelsea_clinton.plot()"
   ]
  },
  {
   "cell_type": "code",
   "execution_count": 202,
   "metadata": {
    "extensions": {
     "jupyter_dashboards": {
      "version": 1,
      "views": {
       "grid_default": {
        "hidden": true
       },
       "report_default": {}
      }
     }
    }
   },
   "outputs": [
    {
     "ename": "NameError",
     "evalue": "name 'yelp_bushwick_one_hot_cumsum' is not defined",
     "output_type": "error",
     "traceback": [
      "\u001b[0;31m---------------------------------------------------------------------------\u001b[0m",
      "\u001b[0;31mNameError\u001b[0m                                 Traceback (most recent call last)",
      "\u001b[0;32m<ipython-input-202-8118c2484898>\u001b[0m in \u001b[0;36m<module>\u001b[0;34m()\u001b[0m\n\u001b[0;32m----> 1\u001b[0;31m \u001b[0myelp_bushwick_one_hot_cumsum\u001b[0m \u001b[0;34m=\u001b[0m \u001b[0myelp_bushwick_one_hot_cumsum\u001b[0m\u001b[0;34m.\u001b[0m\u001b[0mreindex\u001b[0m\u001b[0;34m(\u001b[0m\u001b[0myelp_williamsburg_one_hot_cumsum\u001b[0m\u001b[0;34m.\u001b[0m\u001b[0mindex\u001b[0m\u001b[0;34m)\u001b[0m\u001b[0;34m\u001b[0m\u001b[0m\n\u001b[0m\u001b[1;32m      2\u001b[0m \u001b[0myelp_east_harlem_one_hot_cumsum\u001b[0m \u001b[0;34m=\u001b[0m \u001b[0myelp_east_harlem_one_hot_zcumsum\u001b[0m\u001b[0;34m.\u001b[0m\u001b[0mreindex\u001b[0m\u001b[0;34m(\u001b[0m\u001b[0myelp_williamsburg_one_hot_cumsum\u001b[0m\u001b[0;34m.\u001b[0m\u001b[0mindex\u001b[0m\u001b[0;34m)\u001b[0m\u001b[0;34m\u001b[0m\u001b[0m\n",
      "\u001b[0;31mNameError\u001b[0m: name 'yelp_bushwick_one_hot_cumsum' is not defined"
     ]
    }
   ],
   "source": [
    "yelp_bushwick_one_hot_cumsum = yelp_bushwick_one_hot_cumsum.reindex(yelp_williamsburg_one_hot_cumsum.index)\n",
    "yelp_east_harlem_one_hot_cumsum = yelp_east_harlem_one_hot_zcumsum.reindex(yelp_williamsburg_one_hot_cumsum.index)"
   ]
  },
  {
   "cell_type": "code",
   "execution_count": 203,
   "metadata": {
    "extensions": {
     "jupyter_dashboards": {
      "version": 1,
      "views": {
       "grid_default": {
        "hidden": true
       },
       "report_default": {}
      }
     }
    }
   },
   "outputs": [],
   "source": [
    "yelp_chelsea_clinton_one_hot_cumsum = yelp_chelsea_clinton_one_hot_cumsum.reindex(yelp_williamsburg_one_hot_cumsum.index)"
   ]
  },
  {
   "cell_type": "code",
   "execution_count": null,
   "metadata": {
    "extensions": {
     "jupyter_dashboards": {
      "version": 1,
      "views": {
       "grid_default": {
        "hidden": true
       },
       "report_default": {}
      }
     }
    }
   },
   "outputs": [],
   "source": [
    "yelp_bushwick_one_hot_cumsum.index = rent_studio_bushwick.index\n",
    "yelp_east_harlem_one_hot_cumsum.index = rent_studio_east_harlem.index\n",
    "yelp_chelsea_clinton_one_hot_cumsum.index = rent_studio_chelsea_clinton.index"
   ]
  },
  {
   "cell_type": "code",
   "execution_count": null,
   "metadata": {
    "extensions": {
     "jupyter_dashboards": {
      "version": 1,
      "views": {
       "grid_default": {
        "hidden": true
       },
       "report_default": {}
      }
     }
    }
   },
   "outputs": [],
   "source": [
    "yelp_cumsum_rent_bushwick = pd.concat([yelp_bushwick_one_hot_cumsum ,rent_studio_bushwick],axis = 1)\n",
    "yelp_cumsum_rent_east_harlem = pd.concat([yelp_east_harlem_one_hot_cumsum ,rent_studio_east_harlem],axis = 1)"
   ]
  },
  {
   "cell_type": "code",
   "execution_count": null,
   "metadata": {
    "extensions": {
     "jupyter_dashboards": {
      "version": 1,
      "views": {
       "grid_default": {
        "hidden": true
       },
       "report_default": {}
      }
     }
    }
   },
   "outputs": [],
   "source": [
    "yelp_cumsum_rent_chelsea_clinton = pd.concat([yelp_chelsea_clinton_one_hot_cumsum ,rent_studio_chelsea_clinton],axis = 1)\n",
    "yelp_cumsum__percent_inc_rent_chelsea_clinton = yelp_cumsum_rent_chelsea_clinton.pct_change(fill_method = \"ffill\")"
   ]
  },
  {
   "cell_type": "code",
   "execution_count": null,
   "metadata": {
    "extensions": {
     "jupyter_dashboards": {
      "version": 1,
      "views": {
       "grid_default": {
        "hidden": true
       },
       "report_default": {}
      }
     }
    }
   },
   "outputs": [],
   "source": [
    "yelp_cumsum__percent_inc_rent_east_harlem = yelp_cumsum_rent_east_harlem.pct_change(fill_method = \"ffill\")\n",
    "yelp_cumsum__percent_inc_rent_bushwick = yelp_cumsum_rent_bushwick.pct_change(fill_method = \"ffill\")"
   ]
  },
  {
   "cell_type": "code",
   "execution_count": null,
   "metadata": {
    "extensions": {
     "jupyter_dashboards": {
      "version": 1,
      "views": {
       "grid_default": {
        "hidden": true
       },
       "report_default": {}
      }
     }
    }
   },
   "outputs": [],
   "source": [
    "# yelp_cumsum__percent_inc_rent_bushwick.to_csv('yelp_cumsum_percent_inc_rent_bushwick.csv')\n",
    "# yelp_cumsum_rent_bushwick.to_csv('yelp_cumsum_rent_bushwick.csv')"
   ]
  },
  {
   "cell_type": "code",
   "execution_count": null,
   "metadata": {
    "extensions": {
     "jupyter_dashboards": {
      "version": 1,
      "views": {
       "grid_default": {
        "hidden": true
       },
       "report_default": {}
      }
     }
    }
   },
   "outputs": [],
   "source": [
    "# yelp_cumsum__percent_inc_rent_east_harlem.to_csv('yelp_cumsum_percent_inc_rent_east_harlem.csv')\n",
    "# yelp_cumsum_rent_east_harlem.to_csv('yelp_cumsum_rent_east_harlem.csv')"
   ]
  },
  {
   "cell_type": "code",
   "execution_count": null,
   "metadata": {
    "extensions": {
     "jupyter_dashboards": {
      "version": 1,
      "views": {
       "grid_default": {
        "hidden": true
       },
       "report_default": {}
      }
     }
    }
   },
   "outputs": [],
   "source": [
    "yelp_cumsum__percent_inc_rent_chelsea_clinton.to_csv('yelp_cumsum_percent_inc_rent_chelsea_clinton.csv')\n",
    "yelp_cumsum_rent_chelsea_clinton.to_csv('yelp_cumsum_rent_chelsea_clinton.csv')"
   ]
  },
  {
   "cell_type": "markdown",
   "metadata": {
    "extensions": {
     "jupyter_dashboards": {
      "version": 1,
      "views": {
       "grid_default": {
        "col": 8,
        "height": 4,
        "hidden": false,
        "row": 25,
        "width": 4
       },
       "report_default": {}
      }
     }
    }
   },
   "source": [
    "#### Time Series"
   ]
  },
  {
   "cell_type": "code",
   "execution_count": null,
   "metadata": {
    "extensions": {
     "jupyter_dashboards": {
      "version": 1,
      "views": {
       "grid_default": {
        "hidden": true
       },
       "report_default": {}
      }
     }
    }
   },
   "outputs": [],
   "source": [
    "rent_studio_williamsburg['%increase_rent'] = rent_studio_williamsburg.pct_change()"
   ]
  },
  {
   "cell_type": "code",
   "execution_count": null,
   "metadata": {
    "extensions": {
     "jupyter_dashboards": {
      "version": 1,
      "views": {
       "grid_default": {
        "hidden": true
       },
       "report_default": {}
      }
     }
    }
   },
   "outputs": [],
   "source": [
    "rent_studio_williamsburg['rent'].plot() # further time series analysis necessary"
   ]
  },
  {
   "cell_type": "code",
   "execution_count": null,
   "metadata": {
    "extensions": {
     "jupyter_dashboards": {
      "version": 1,
      "views": {
       "grid_default": {
        "hidden": true
       },
       "report_default": {}
      }
     }
    }
   },
   "outputs": [],
   "source": [
    "# check the distribution\n",
    "rent_studio_williamsburg['rent'].plot(kind='kde')\n",
    "plt.show()"
   ]
  },
  {
   "cell_type": "code",
   "execution_count": null,
   "metadata": {
    "extensions": {
     "jupyter_dashboards": {
      "version": 1,
      "views": {
       "grid_default": {
        "hidden": true
       },
       "report_default": {}
      }
     }
    }
   },
   "outputs": [],
   "source": [
    "rent_studio_east_harlem['rent'].plot(kind='kde')\n",
    "plt.show()"
   ]
  },
  {
   "cell_type": "code",
   "execution_count": null,
   "metadata": {
    "extensions": {
     "jupyter_dashboards": {
      "version": 1,
      "views": {
       "grid_default": {
        "hidden": true
       },
       "report_default": {}
      }
     }
    }
   },
   "outputs": [],
   "source": [
    "rent_studio_bushwick['rent'].plot(kind='kde')\n",
    "plt.show()"
   ]
  },
  {
   "cell_type": "code",
   "execution_count": null,
   "metadata": {
    "extensions": {
     "jupyter_dashboards": {
      "version": 1,
      "views": {
       "grid_default": {
        "hidden": true
       },
       "report_default": {}
      }
     }
    }
   },
   "outputs": [],
   "source": [
    "def stationarity_check(TS):\n",
    "    \n",
    "    # Import adfuller\n",
    "    from statsmodels.tsa.stattools import adfuller\n",
    "    \n",
    "    # Calculate rolling statistics\n",
    "    rolmean = TS.rolling(window=12).mean() # Change window size for different lags\n",
    "    rolstd = TS.rolling(window=12).std()\n",
    "    \n",
    "    # Perform the Dickey Fuller Test\n",
    "    dftest = adfuller(TS['rent'], autolag='AIC') # change the passengers column as required \n",
    "    \n",
    "    #Plot rolling statistics:\n",
    "    orig = plt.plot(TS, color='blue',label='Original')\n",
    "    mean = plt.plot(rolmean, color='red', label='Rolling Mean')\n",
    "    std = plt.plot(rolstd, color='black', label = 'Rolling Std')\n",
    "    plt.legend(loc='best')\n",
    "    plt.title('Rolling Mean & Standard Deviation')\n",
    "    plt.show(block=False)\n",
    "    \n",
    "    # Print Dickey-Fuller test results\n",
    "    print ('Results of Dickey-Fuller Test:')\n",
    "\n",
    "    dfoutput = pd.Series(dftest[0:4], index=['Test Statistic','p-value','#Lags Used','Number of Observations Used'])\n",
    "    for key,value in dftest[4].items():\n",
    "        dfoutput['Critical Value (%s)'%key] = value\n",
    "    print (dfoutput)\n",
    "    \n",
    "    return None"
   ]
  },
  {
   "cell_type": "code",
   "execution_count": null,
   "metadata": {
    "extensions": {
     "jupyter_dashboards": {
      "version": 1,
      "views": {
       "grid_default": {
        "hidden": true
       },
       "report_default": {}
      }
     }
    }
   },
   "outputs": [],
   "source": [
    "rent_studio_williamsburg['rent'] = rent_studio_williamsburg['rent'].astype('float')"
   ]
  },
  {
   "cell_type": "code",
   "execution_count": null,
   "metadata": {
    "extensions": {
     "jupyter_dashboards": {
      "version": 1,
      "views": {
       "grid_default": {
        "hidden": true
       },
       "report_default": {}
      }
     }
    }
   },
   "outputs": [],
   "source": [
    "rent_studio_williamsburg_log = np.log(rent_studio_williamsburg['rent'])"
   ]
  },
  {
   "cell_type": "code",
   "execution_count": null,
   "metadata": {
    "extensions": {
     "jupyter_dashboards": {
      "version": 1,
      "views": {
       "grid_default": {
        "hidden": true
       },
       "report_default": {}
      }
     }
    }
   },
   "outputs": [],
   "source": [
    "rent_studio_williamsburg_log = pd.DataFrame(rent_studio_williamsburg_log)"
   ]
  },
  {
   "cell_type": "code",
   "execution_count": null,
   "metadata": {
    "extensions": {
     "jupyter_dashboards": {
      "version": 1,
      "views": {
       "grid_default": {
        "hidden": true
       },
       "report_default": {}
      }
     }
    }
   },
   "outputs": [],
   "source": [
    "rolmean_log = rent_studio_williamsburg_log.rolling(window=12).mean()\n",
    "rolstd_log = rent_studio_williamsburg_log.rolling(window=12).std()\n",
    "rent_studio_williamsburg_log_moving_avg_diff = rent_studio_williamsburg_log - rolmean_log\n",
    "rent_studio_williamsburg_log_moving_avg_diff.head(15)"
   ]
  },
  {
   "cell_type": "code",
   "execution_count": null,
   "metadata": {
    "extensions": {
     "jupyter_dashboards": {
      "version": 1,
      "views": {
       "grid_default": {
        "hidden": true
       },
       "report_default": {}
      }
     }
    }
   },
   "outputs": [],
   "source": [
    "rent_studio_williamsburg_log_moving_avg_diff = rent_studio_williamsburg_log_moving_avg_diff.dropna()"
   ]
  },
  {
   "cell_type": "code",
   "execution_count": null,
   "metadata": {
    "extensions": {
     "jupyter_dashboards": {
      "version": 1,
      "views": {
       "grid_default": {
        "hidden": true
       },
       "report_default": {}
      }
     }
    }
   },
   "outputs": [],
   "source": [
    "stationarity_check(rent_studio_williamsburg_log_moving_avg_diff)"
   ]
  },
  {
   "cell_type": "code",
   "execution_count": null,
   "metadata": {
    "extensions": {
     "jupyter_dashboards": {
      "version": 1,
      "views": {
       "grid_default": {
        "hidden": true
       },
       "report_default": {}
      }
     }
    }
   },
   "outputs": [],
   "source": [
    "decomposition_williamsburg = seasonal_decompose(rent_studio_williamsburg['rent'])\n",
    "\n",
    "# Gather the trend, seasonality and noise of decomposed object\n",
    "trend_williamsburg = decomposition_williamsburg.trend\n",
    "seasonal_williamsburg = decomposition_williamsburg.seasonal\n",
    "residual_williamsburg = decomposition_williamsburg.resid\n",
    "\n",
    "# Plot gathered statistics\n",
    "# rcParams['figure.figsize'] = 15, 15\n",
    "plt.subplot(411)\n",
    "plt.plot(rent_studio_williamsburg['rent'], label='Original')\n",
    "plt.legend(loc='best')\n",
    "plt.subplot(412)\n",
    "plt.plot(trend_williamsburg, label='Trend')\n",
    "plt.legend(loc='best')\n",
    "plt.subplot(413)\n",
    "plt.plot(seasonal_williamsburg,label='Seasonality')\n",
    "plt.legend(loc='best')\n",
    "plt.subplot(414)\n",
    "plt.plot(residual_williamsburg, label='Residuals')\n",
    "plt.legend(loc='best')\n",
    "plt.tight_layout()"
   ]
  },
  {
   "cell_type": "code",
   "execution_count": null,
   "metadata": {
    "extensions": {
     "jupyter_dashboards": {
      "version": 1,
      "views": {
       "grid_default": {
        "hidden": true
       },
       "report_default": {}
      }
     }
    }
   },
   "outputs": [],
   "source": [
    "# auto correlation -> moving average lag\n",
    "from statsmodels.graphics.tsaplots import plot_acf\n",
    "# get the ACF using plot_acf(series)\n",
    "# rcParams['figure.figsize'] = 15, 6\n",
    "plot_acf(rent_studio_williamsburg_log_moving_avg_diff)\n",
    "plt.show()"
   ]
  },
  {
   "cell_type": "code",
   "execution_count": null,
   "metadata": {
    "extensions": {
     "jupyter_dashboards": {
      "version": 1,
      "views": {
       "grid_default": {
        "hidden": true
       },
       "report_default": {}
      }
     }
    }
   },
   "outputs": [],
   "source": [
    "# partial auto-correlation -> auto regressive term\n",
    "from statsmodels.graphics.tsaplots import plot_pacf\n",
    "\n",
    "# Plot pacf by passing lags=100 as an argument to plot_acf()\n",
    "plot_pacf(rent_studio_williamsburg_log_moving_avg_diff, lags = 20)\n",
    "plt.show()"
   ]
  }
 ],
 "metadata": {
  "extensions": {
   "jupyter_dashboards": {
    "activeView": "grid_default",
    "version": 1,
    "views": {
     "grid_default": {
      "cellMargin": 10,
      "defaultCellHeight": 20,
      "maxColumns": 12,
      "name": "grid",
      "type": "grid"
     },
     "report_default": {
      "name": "report",
      "type": "report"
     }
    }
   }
  },
  "kernelspec": {
   "display_name": "Python 3",
   "language": "python",
   "name": "python3"
  },
  "language_info": {
   "codemirror_mode": {
    "name": "ipython",
    "version": 3
   },
   "file_extension": ".py",
   "mimetype": "text/x-python",
   "name": "python",
   "nbconvert_exporter": "python",
   "pygments_lexer": "ipython3",
   "version": "3.6.5"
  }
 },
 "nbformat": 4,
 "nbformat_minor": 2
}
