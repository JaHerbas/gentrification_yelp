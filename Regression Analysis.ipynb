{
 "cells": [
  {
   "cell_type": "code",
   "execution_count": 264,
   "metadata": {},
   "outputs": [],
   "source": [
    "import pandas as pd\n",
    "import numpy as np\n",
    "import matplotlib.pyplot as plt\n",
    "import warnings\n",
    "from pyproj import Proj, transform\n",
    "from sklearn.preprocessing import normalize\n",
    "from sklearn.model_selection import train_test_split\n",
    "import sklearn.linear_model as linreg\n",
    "from sklearn.metrics import accuracy_score\n",
    "import seaborn as sns\n",
    "import datetime\n",
    "import ast\n",
    "from sklearn.linear_model import Lasso, Ridge\n",
    "warnings.filterwarnings(\"ignore\")\n",
    "%matplotlib inline"
   ]
  },
  {
   "cell_type": "code",
   "execution_count": 285,
   "metadata": {},
   "outputs": [],
   "source": [
    "# import necessary csv files - williamsburg\n",
    "yelp_cumsum_rent_williamsburg_df = pd.read_csv('csv/yelp_cumsum_rent_williamsburg.csv', index_col = ['Unnamed: 0'])\n",
    "yelp_cumsum_rent_williamsburg_df.index = pd.to_datetime(yelp_cumsum_rent_williamsburg_df.index)\n",
    "yelp_williamsburg_cumsum_perc_inc_df = pd.read_csv('csv/yelp_cumsum_percent_inc_rent_williamsburg.csv', index_col = ['Unnamed: 0'])\n",
    "yelp_williamsburg_cumsum_perc_inc_df.index = pd.to_datetime(yelp_williamsburg_cumsum_perc_inc_df.index)\n",
    "\n",
    "# studio - rent\n",
    "rent_studio = pd.read_csv('csv/Zip_MedianRentalPrice_Studio.csv')\n",
    "zip_code_list = pd.read_csv('csv/zipcode_by_neighborhood.csv', index_col = 0)\n",
    "zip_code_list['zipcodes'] = zip_code_list['zipcodes'].apply(lambda x: ast.literal_eval(x)) "
   ]
  },
  {
   "cell_type": "code",
   "execution_count": 286,
   "metadata": {},
   "outputs": [],
   "source": [
    "# import necessary csv files - bushwick\n",
    "yelp_cumsum_rent_bushwick_df = pd.read_csv('csv/yelp_cumsum_rent_bushwick.csv', index_col = ['Unnamed: 0'])\n",
    "yelp_cumsum_rent_bushwick_df.index = pd.to_datetime(yelp_cumsum_rent_bushwick_df.index)\n",
    "yelp_bushwick_cumsum_perc_inc_df = pd.read_csv('csv/yelp_cumsum_percent_inc_rent_bushwick.csv', index_col = ['Unnamed: 0'])\n",
    "yelp_bushwick_cumsum_perc_inc_df.index = pd.to_datetime(yelp_bushwick_cumsum_perc_inc_df.index)"
   ]
  },
  {
   "cell_type": "code",
   "execution_count": 287,
   "metadata": {},
   "outputs": [],
   "source": [
    "# import necessary csv files - east harlem\n",
    "yelp_cumsum_rent_east_harlem_df = pd.read_csv('csv/yelp_cumsum_rent_east_harlem.csv', index_col = ['Unnamed: 0'])\n",
    "yelp_cumsum_rent_east_harlem_df.index = pd.to_datetime(yelp_cumsum_rent_east_harlem_df.index)\n",
    "yelp_east_harlem_cumsum_perc_inc_df = pd.read_csv('csv/yelp_cumsum_percent_inc_rent_east_harlem.csv', index_col = ['Unnamed: 0'])\n",
    "yelp_east_harlem_cumsum_perc_inc_df.index = pd.to_datetime(yelp_east_harlem_cumsum_perc_inc_df.index)"
   ]
  },
  {
   "cell_type": "code",
   "execution_count": 288,
   "metadata": {},
   "outputs": [],
   "source": [
    "# import necessary csv files - east harlem\n",
    "yelp_cumsum_rent_chelsea_clinton_df = pd.read_csv('csv/yelp_cumsum_rent_chelsea_clinton.csv', index_col = ['Unnamed: 0'])\n",
    "yelp_cumsum_rent_chelsea_clinton_df.index = pd.to_datetime(yelp_cumsum_rent_chelsea_clinton_df.index)\n",
    "yelp_chelsea_clinton_cumsum_perc_inc_df = pd.read_csv('csv/yelp_cumsum_percent_inc_rent_chelsea_clinton.csv', index_col = ['Unnamed: 0'])\n",
    "yelp_chelsea_clinton_cumsum_perc_inc_df.index = pd.to_datetime(yelp_chelsea_clinton_cumsum_perc_inc_df.index)"
   ]
  },
  {
   "cell_type": "code",
   "execution_count": 289,
   "metadata": {},
   "outputs": [],
   "source": [
    "yelp_bushwick_one_hot_category = pd.read_csv('bushwick_one_hot_cat.csv', index_col = 0)\n",
    "yelp_williamsburg_one_hot_category = pd.read_csv('williamsburg_one_hot_category.csv', index_col = 'oldest_review')\n",
    "yelp_chelsea_clinton_one_hot_category = pd.read_csv('chelsea_clinton_one_hot_category.csv', index_col = 0)\n",
    "yelp_east_harlem_one_hot_category = pd.read_csv('east_harlem_one_hot_category.csv', index_col = 0)"
   ]
  },
  {
   "cell_type": "code",
   "execution_count": 290,
   "metadata": {},
   "outputs": [],
   "source": [
    "williamsburg_zip_ = zip_code_list[zip_code_list['neighborhood'] == 'Williamsburg']\n",
    "williamsburg_zip = williamsburg_zip_['zipcodes'].values[0]"
   ]
  },
  {
   "cell_type": "code",
   "execution_count": 291,
   "metadata": {},
   "outputs": [],
   "source": [
    "williamsburg_zip_ = zip_code_list[zip_code_list['neighborhood'] == 'Williamsburg']\n",
    "williamsburg_zip = williamsburg_zip_['zipcodes'].values[0]\n",
    "# williamsburg_rent = get_rent_for_neighborhood(williamsburg_zip)"
   ]
  },
  {
   "cell_type": "code",
   "execution_count": 292,
   "metadata": {},
   "outputs": [],
   "source": [
    "# bushwick\n",
    "bushwick_zip_ = zip_code_list[zip_code_list['neighborhood'] == 'Bushwick']\n",
    "bushwick_zip = bushwick_zip_['zipcodes'].values[0]\n",
    "\n",
    "# east harlem\n",
    "east_harlem_zip_ = zip_code_list[zip_code_list['neighborhood'] == 'East Harlem']\n",
    "east_harlem_zip = east_harlem_zip_['zipcodes'].values[0]\n",
    "\n",
    "# chelsea and clinton\n",
    "chelsea_clinton_zip_ = zip_code_list[zip_code_list['neighborhood'] == 'Chelsea and Clinton']\n",
    "chelsea_clinton_zip = chelsea_clinton_zip_['zipcodes'].values[0]"
   ]
  },
  {
   "cell_type": "code",
   "execution_count": 330,
   "metadata": {},
   "outputs": [],
   "source": [
    "yelp_cumsum_rent_williamsburg_df['%increase_rent'] = 100*(yelp_cumsum_rent_williamsburg_df['rent'].pct_change())"
   ]
  },
  {
   "cell_type": "code",
   "execution_count": 331,
   "metadata": {},
   "outputs": [],
   "source": [
    "yelp_cumsum_rent_east_harlem_df['%increase_rent'] = 100*(yelp_cumsum_rent_east_harlem_df['rent'].pct_change())\n",
    "yelp_cumsum_rent_bushwick_df['%increase_rent'] = 100*(yelp_cumsum_rent_bushwick_df['rent'].pct_change())\n",
    "yelp_cumsum_rent_chelsea_clinton_df['%increase_rent'] = 100*(yelp_cumsum_rent_chelsea_clinton_df['rent'].pct_change())"
   ]
  },
  {
   "cell_type": "code",
   "execution_count": 332,
   "metadata": {},
   "outputs": [],
   "source": [
    "yelp_bushwick_one_hot_category = yelp_bushwick_one_hot_category[yelp_bushwick_one_hot_category.index > '2011-10']\n",
    "yelp_williamsburg_one_hot_category = yelp_williamsburg_one_hot_category[yelp_williamsburg_one_hot_category.index > '2011-10']\n",
    "yelp_chelsea_clinton_one_hot_category = yelp_chelsea_clinton_one_hot_category[yelp_chelsea_clinton_one_hot_category.index > '2011-10']\n",
    "yelp_east_harlem_one_hot_category = yelp_east_harlem_one_hot_category[yelp_east_harlem_one_hot_category.index > '2011-10']"
   ]
  },
  {
   "cell_type": "code",
   "execution_count": 333,
   "metadata": {},
   "outputs": [],
   "source": [
    "yelp_rent_per_inc_bushwick = pd.DataFrame(yelp_cumsum_rent_bushwick_df['%increase_rent'])\n",
    "yelp_rent_per_inc_williamsburg = pd.DataFrame(yelp_cumsum_rent_williamsburg_df['%increase_rent'])\n",
    "yelp_rent_per_inc_chelsea_clinton = pd.DataFrame(yelp_cumsum_rent_chelsea_clinton_df['%increase_rent'])\n",
    "yelp_rent_per_inc_east_harlem = pd.DataFrame(yelp_cumsum_rent_east_harlem_df['%increase_rent'])"
   ]
  },
  {
   "cell_type": "code",
   "execution_count": 334,
   "metadata": {},
   "outputs": [],
   "source": [
    "yelp_bushwick_one_hot_category.index = pd.to_datetime(yelp_bushwick_one_hot_category.index)"
   ]
  },
  {
   "cell_type": "code",
   "execution_count": 335,
   "metadata": {},
   "outputs": [
    {
     "name": "stdout",
     "output_type": "stream",
     "text": [
      "82\n"
     ]
    },
    {
     "data": {
      "text/plain": [
       "82"
      ]
     },
     "execution_count": 335,
     "metadata": {},
     "output_type": "execute_result"
    }
   ],
   "source": [
    "print(len(yelp_rent_per_inc_bushwick))\n",
    "len(yelp_bushwick_one_hot_category)"
   ]
  },
  {
   "cell_type": "code",
   "execution_count": 336,
   "metadata": {},
   "outputs": [],
   "source": [
    "yelp_bushwick_one_hot_category= yelp_bushwick_one_hot_category.drop(['%increase_rent'], axis = 1)\n",
    "yelp_williamsburg_one_hot_category = yelp_williamsburg_one_hot_category.drop(['%increase_rent'], axis = 1)\n",
    "yelp_chelsea_clinton_one_hot_category = yelp_chelsea_clinton_one_hot_category.drop(['%increase_rent'], axis = 1)\n",
    "yelp_east_harlem_one_hot_category = yelp_east_harlem_one_hot_category.drop(['%increase_rent'], axis = 1)"
   ]
  },
  {
   "cell_type": "code",
   "execution_count": 337,
   "metadata": {},
   "outputs": [],
   "source": [
    "yelp_bushwick_one_hot_category = yelp_bushwick_one_hot_category.join(yelp_rent_per_inc_bushwick, how='outer')\n",
    "yelp_williamsburg_one_hot_category = yelp_williamsburg_one_hot_category.join(yelp_rent_per_inc_williamsburg, how='outer')\n",
    "yelp_chelsea_clinton_one_hot_category = yelp_chelsea_clinton_one_hot_category.join(yelp_rent_per_inc_chelsea_clinton, how='outer')\n",
    "yelp_east_harlem_one_hot_category = yelp_east_harlem_one_hot_category.join(yelp_rent_per_inc_east_harlem, how='outer')"
   ]
  },
  {
   "cell_type": "code",
   "execution_count": 338,
   "metadata": {},
   "outputs": [],
   "source": [
    "yelp_east_harlem_one_hot_category = yelp_east_harlem_one_hot_category[yelp_east_harlem_one_hot_category.index<'2018-09']\n",
    "yelp_williamsburg_one_hot_category = yelp_williamsburg_one_hot_category[yelp_williamsburg_one_hot_category.index<'2018-09']\n",
    "yelp_chelsea_clinton_one_hot_category = yelp_chelsea_clinton_one_hot_category[yelp_chelsea_clinton_one_hot_category.index<'2018-09']\n",
    "yelp_bushwick_one_hot_category = yelp_bushwick_one_hot_category[yelp_bushwick_one_hot_category.index<'2018-09']"
   ]
  },
  {
   "cell_type": "code",
   "execution_count": 341,
   "metadata": {},
   "outputs": [],
   "source": [
    "# plt.scatter(yelp_williamsburg_one_hot_category['category_bars'], yelp_williamsburg_one_hot_category['%increase_rent'])"
   ]
  },
  {
   "cell_type": "code",
   "execution_count": 342,
   "metadata": {},
   "outputs": [],
   "source": [
    "df_cumsum_perc_inc = yelp_williamsburg_one_hot_category.append(yelp_east_harlem_one_hot_category).append(yelp_chelsea_clinton_one_hot_category).append(yelp_bushwick_one_hot_category)\n",
    "df_cumsum_perc_inc = df_cumsum_perc_inc.reset_index(drop = True)"
   ]
  },
  {
   "cell_type": "code",
   "execution_count": 133,
   "metadata": {},
   "outputs": [],
   "source": [
    "df = yelp_east_harlem_cumsum_perc_inc_df.append(yelp_bushwick_cumsum_perc_inc_df).append(yelp_east_harlem_cumsum_perc_inc_df).append(yelp_chelsea_clinton_cumsum_perc_inc_df)\n",
    "# pd.concat([yelp_east_harlem_cumsum_perc_inc_df, yelp_bushwick_cumsum_perc_inc_df, yelp_east_harlem_cumsum_perc_inc_df], axis=0).reset_index()\n",
    "df = df.reset_index(drop = True)"
   ]
  },
  {
   "cell_type": "code",
   "execution_count": 147,
   "metadata": {},
   "outputs": [],
   "source": [
    "df_rest_count_perc_inc = yelp_cumsum_rent_williamsburg_df.append(yelp_cumsum_rent_east_harlem_df).append(yelp_cumsum_rent_bushwick_df).append(yelp_cumsum_rent_chelsea_clinton_df)\n",
    "df_rest_count_perc_inc = df_rest_count_perc_inc.reset_index(drop = True)"
   ]
  },
  {
   "cell_type": "code",
   "execution_count": 356,
   "metadata": {},
   "outputs": [],
   "source": [
    "df_cumsum_perc_inc = df_cumsum_perc_inc[~df_cumsum_perc_inc['category_bars'].isnull()]"
   ]
  },
  {
   "cell_type": "code",
   "execution_count": 358,
   "metadata": {},
   "outputs": [
    {
     "data": {
      "text/plain": [
       "<matplotlib.axes._subplots.AxesSubplot at 0x1a2621c2e8>"
      ]
     },
     "execution_count": 358,
     "metadata": {},
     "output_type": "execute_result"
    },
    {
     "data": {
      "image/png": "[encoded data removed]",
      "text/plain": [
       "<Figure size 432x288 with 1 Axes>"
      ]
     },
     "metadata": {},
     "output_type": "display_data"
    }
   ],
   "source": [
    "sns.distplot(df_cumsum_perc_inc['category_bars'])"
   ]
  },
  {
   "cell_type": "code",
   "execution_count": 357,
   "metadata": {},
   "outputs": [
    {
     "data": {
      "text/plain": [
       "<matplotlib.collections.PathCollection at 0x1a261ee550>"
      ]
     },
     "execution_count": 357,
     "metadata": {},
     "output_type": "execute_result"
    },
    {
     "data": {
      "image/png": "[encoded data removed]",
      "text/plain": [
       "<Figure size 432x288 with 1 Axes>"
      ]
     },
     "metadata": {},
     "output_type": "display_data"
    }
   ],
   "source": [
    "plt.scatter(df_cumsum_perc_inc['category_chinese'], df_cumsum_perc_inc['%increase_rent'])"
   ]
  },
  {
   "cell_type": "code",
   "execution_count": 152,
   "metadata": {},
   "outputs": [
    {
     "data": {
      "text/plain": [
       "<matplotlib.collections.PathCollection at 0x1a24b3fa58>"
      ]
     },
     "execution_count": 152,
     "metadata": {},
     "output_type": "execute_result"
    },
    {
     "data": {
      "image/png": "[encoded data removed]",
      "text/plain": [
       "<Figure size 432x288 with 1 Axes>"
      ]
     },
     "metadata": {},
     "output_type": "display_data"
    }
   ],
   "source": [
    "plt.scatter(df_rest_count_perc_inc['category_bars'], df_rest_count_perc_inc['%increase_rent'])"
   ]
  },
  {
   "cell_type": "code",
   "execution_count": null,
   "metadata": {},
   "outputs": [],
   "source": []
  },
  {
   "cell_type": "code",
   "execution_count": null,
   "metadata": {},
   "outputs": [],
   "source": []
  },
  {
   "cell_type": "code",
   "execution_count": null,
   "metadata": {},
   "outputs": [],
   "source": []
  },
  {
   "cell_type": "code",
   "execution_count": 135,
   "metadata": {},
   "outputs": [],
   "source": [
    "df['rent'] = df['rent'].replace([np.inf, -np.inf], np.nan)"
   ]
  },
  {
   "cell_type": "code",
   "execution_count": 136,
   "metadata": {},
   "outputs": [],
   "source": [
    "df = df.dropna(subset = ['rent'])"
   ]
  },
  {
   "cell_type": "code",
   "execution_count": 137,
   "metadata": {},
   "outputs": [],
   "source": [
    "df = df.replace([np.inf, -np.inf], np.nan)"
   ]
  },
  {
   "cell_type": "code",
   "execution_count": 138,
   "metadata": {},
   "outputs": [],
   "source": [
    "df = df.reset_index(drop= True)"
   ]
  },
  {
   "cell_type": "code",
   "execution_count": null,
   "metadata": {},
   "outputs": [],
   "source": [
    "df"
   ]
  },
  {
   "cell_type": "code",
   "execution_count": 141,
   "metadata": {},
   "outputs": [
    {
     "ename": "SyntaxError",
     "evalue": "unexpected EOF while parsing (<ipython-input-141-fef75a736f56>, line 1)",
     "output_type": "error",
     "traceback": [
      "\u001b[0;36m  File \u001b[0;32m\"<ipython-input-141-fef75a736f56>\"\u001b[0;36m, line \u001b[0;32m1\u001b[0m\n\u001b[0;31m    plt.plot(yelp_cumsum_rent_chelsea_clinton_df['']\u001b[0m\n\u001b[0m                                                    ^\u001b[0m\n\u001b[0;31mSyntaxError\u001b[0m\u001b[0;31m:\u001b[0m unexpected EOF while parsing\n"
     ]
    }
   ],
   "source": [
    "plt.plot(yelp_cumsum_rent_chelsea_clinton_df['']"
   ]
  },
  {
   "cell_type": "code",
   "execution_count": 143,
   "metadata": {},
   "outputs": [
    {
     "data": {
      "text/plain": [
       "<matplotlib.collections.PathCollection at 0x1a23b47cf8>"
      ]
     },
     "execution_count": 143,
     "metadata": {},
     "output_type": "execute_result"
    },
    {
     "data": {
      "image/png": "[encoded data removed]",
      "text/plain": [
       "<Figure size 432x288 with 1 Axes>"
      ]
     },
     "metadata": {},
     "output_type": "display_data"
    }
   ],
   "source": [
    "plt.scatter(df['category_coffee'], df['rent'])"
   ]
  },
  {
   "cell_type": "code",
   "execution_count": 362,
   "metadata": {},
   "outputs": [],
   "source": [
    "from scipy import stats\n",
    "category_coffee_boxcox = stats.boxcox(df['category_coffee']+1)"
   ]
  },
  {
   "cell_type": "code",
   "execution_count": 369,
   "metadata": {},
   "outputs": [
    {
     "data": {
      "text/plain": [
       "<matplotlib.collections.PathCollection at 0x1a26d7c1d0>"
      ]
     },
     "execution_count": 369,
     "metadata": {},
     "output_type": "execute_result"
    },
    {
     "data": {
      "image/png": "[encoded data removed]",
      "text/plain": [
       "<Figure size 432x288 with 1 Axes>"
      ]
     },
     "metadata": {},
     "output_type": "display_data"
    }
   ],
   "source": [
    "plt.scatter(category_coffee_boxcox[0], df['rent'])"
   ]
  },
  {
   "cell_type": "code",
   "execution_count": 114,
   "metadata": {},
   "outputs": [],
   "source": [
    "df.loc[:,'category_african':'category_wine_bars'] =  df.loc[:,'category_african':'category_wine_bars']*100"
   ]
  },
  {
   "cell_type": "code",
   "execution_count": 144,
   "metadata": {},
   "outputs": [
    {
     "data": {
      "text/plain": [
       "<matplotlib.collections.PathCollection at 0x1a23a8d860>"
      ]
     },
     "execution_count": 144,
     "metadata": {},
     "output_type": "execute_result"
    },
    {
     "data": {
      "image/png": "[encoded data removed]",
      "text/plain": [
       "<Figure size 432x288 with 1 Axes>"
      ]
     },
     "metadata": {},
     "output_type": "display_data"
    }
   ],
   "source": [
    "plt.scatter(df['category_bars'], df['rent'])"
   ]
  },
  {
   "cell_type": "code",
   "execution_count": 116,
   "metadata": {},
   "outputs": [
    {
     "data": {
      "image/png": "[encoded data removed]",
      "text/plain": [
       "<Figure size 432x288 with 1 Axes>"
      ]
     },
     "metadata": {},
     "output_type": "display_data"
    },
    {
     "data": {
      "image/png": "[encoded data removed]",
      "text/plain": [
       "<Figure size 432x288 with 1 Axes>"
      ]
     },
     "metadata": {},
     "output_type": "display_data"
    }
   ],
   "source": [
    "f1 = plt.figure()\n",
    "f2 = plt.figure()\n",
    "ax1 = f1.add_subplot(111)\n",
    "ax1.hist(df['category_coffee'])\n",
    "ax2 = f2.add_subplot(111)\n",
    "ax2.hist(df['rent'])\n",
    "plt.show()"
   ]
  },
  {
   "cell_type": "code",
   "execution_count": 117,
   "metadata": {},
   "outputs": [
    {
     "data": {
      "text/plain": [
       "<matplotlib.collections.PathCollection at 0x1a23b22dd8>"
      ]
     },
     "execution_count": 117,
     "metadata": {},
     "output_type": "execute_result"
    },
    {
     "data": {
      "image/png": "[encoded data removed]",
      "text/plain": [
       "<Figure size 432x288 with 1 Axes>"
      ]
     },
     "metadata": {},
     "output_type": "display_data"
    }
   ],
   "source": [
    "plt.scatter(df['category_coffee'], df['%increase_rent'])"
   ]
  },
  {
   "cell_type": "code",
   "execution_count": null,
   "metadata": {},
   "outputs": [],
   "source": []
  }
 ],
 "metadata": {
  "kernelspec": {
   "display_name": "Python 3",
   "language": "python",
   "name": "python3"
  },
  "language_info": {
   "codemirror_mode": {
    "name": "ipython",
    "version": 3
   },
   "file_extension": ".py",
   "mimetype": "text/x-python",
   "name": "python",
   "nbconvert_exporter": "python",
   "pygments_lexer": "ipython3",
   "version": "3.6.5"
  }
 },
 "nbformat": 4,
 "nbformat_minor": 2
}
